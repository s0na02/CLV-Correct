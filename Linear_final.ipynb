{
 "cells": [
  {
   "cell_type": "code",
   "execution_count": null,
   "id": "91f4de0f",
   "metadata": {},
   "outputs": [
    {
     "ename": "",
     "evalue": "",
     "output_type": "error",
     "traceback": [
      "\u001b[1;31mFailed to start the Kernel. \n",
      "\u001b[1;31mreturn _run_code(code, main_globals, None,\n",
      "\u001b[1;31m  File \"/Library/Developer/CommandLineTools/Library/Frameworks/Python3.framework/Versions/3.8/lib/python3.8/runpy.py\", line 86, in _run_code\n",
      "\u001b[1;31m    exec(code, run_globals)\n",
      "\u001b[1;31m  File \"/Library/Developer/CommandLineTools/Library/Frameworks/Python3.framework/Versions/3.8/lib/python3.8/site-packages/pip/__main__.py\", line 16, in <module>\n",
      "\u001b[1;31m    from pip._internal import main as _main  # isort:skip # noqa\n",
      "\u001b[1;31m  File \"/Library/Developer/CommandLineTools/Library/Frameworks/Python3.framework/Versions/3.8/lib/python3.8/site-packages/pip/_internal/__init__.py\", line 40, in <module>\n",
      "\u001b[1;31m    from pip._internal.cli.autocompletion import autocomplete\n",
      "\u001b[1;31m  File \"/Library/Developer/CommandLineTools/Library/Frameworks/Python3.framework/Versions/3.8/lib/python3.8/site-packages/pip/_internal/cli/autocompletion.py\", line 8, in <module>\n",
      "\u001b[1;31m    from pip._internal.cli.main_parser import create_main_parser\n",
      "\u001b[1;31m  File \"/Library/Developer/CommandLineTools/Library/Frameworks/Python3.framework/Versions/3.8/lib/python3.8/site-packages/pip/_internal/cli/main_parser.py\", line 11, in <module>\n",
      "\u001b[1;31m    from pip._internal.commands import (\n",
      "\u001b[1;31m  File \"/Library/Developer/CommandLineTools/Library/Frameworks/Python3.framework/Versions/3.8/lib/python3.8/site-packages/pip/_internal/commands/__init__.py\", line 6, in <module>\n",
      "\u001b[1;31m    from pip._internal.commands.completion import CompletionCommand\n",
      "\u001b[1;31m  File \"/Library/Developer/CommandLineTools/Library/Frameworks/Python3.framework/Versions/3.8/lib/python3.8/site-packages/pip/_internal/commands/completion.py\", line 6, in <module>\n",
      "\u001b[1;31m    from pip._internal.cli.base_command import Command\n",
      "\u001b[1;31m  File \"/Library/Developer/CommandLineTools/Library/Frameworks/Python3.framework/Versions/3.8/lib/python3.8/site-packages/pip/_internal/cli/base_command.py\", line 26, in <module>\n",
      "\u001b[1;31m    from pip._internal.index import PackageFinder\n",
      "\u001b[1;31mImportError: cannot import name 'PackageFinder' from 'pip._internal.index' (/Library/Developer/CommandLineTools/Library/Frameworks/Python3.framework/Versions/3.8/lib/python3.8/site-packages/pip/_internal/index/__init__.py). \n",
      "\u001b[1;31mView Jupyter <a href='command:jupyter.viewOutput'>log</a> for further details."
     ]
    }
   ],
   "source": [
    "!pip install Lifetimes\n",
    "!pip install squarify\n",
    "!pip install plotly"
   ]
  },
  {
   "cell_type": "code",
   "execution_count": null,
   "id": "3ffa2336",
   "metadata": {},
   "outputs": [
    {
     "ename": "",
     "evalue": "",
     "output_type": "error",
     "traceback": [
      "\u001b[1;31mFailed to start the Kernel. \n",
      "\u001b[1;31mreturn _run_code(code, main_globals, None,\n",
      "\u001b[1;31m  File \"/Library/Developer/CommandLineTools/Library/Frameworks/Python3.framework/Versions/3.8/lib/python3.8/runpy.py\", line 86, in _run_code\n",
      "\u001b[1;31m    exec(code, run_globals)\n",
      "\u001b[1;31m  File \"/Library/Developer/CommandLineTools/Library/Frameworks/Python3.framework/Versions/3.8/lib/python3.8/site-packages/pip/__main__.py\", line 16, in <module>\n",
      "\u001b[1;31m    from pip._internal import main as _main  # isort:skip # noqa\n",
      "\u001b[1;31m  File \"/Library/Developer/CommandLineTools/Library/Frameworks/Python3.framework/Versions/3.8/lib/python3.8/site-packages/pip/_internal/__init__.py\", line 40, in <module>\n",
      "\u001b[1;31m    from pip._internal.cli.autocompletion import autocomplete\n",
      "\u001b[1;31m  File \"/Library/Developer/CommandLineTools/Library/Frameworks/Python3.framework/Versions/3.8/lib/python3.8/site-packages/pip/_internal/cli/autocompletion.py\", line 8, in <module>\n",
      "\u001b[1;31m    from pip._internal.cli.main_parser import create_main_parser\n",
      "\u001b[1;31m  File \"/Library/Developer/CommandLineTools/Library/Frameworks/Python3.framework/Versions/3.8/lib/python3.8/site-packages/pip/_internal/cli/main_parser.py\", line 11, in <module>\n",
      "\u001b[1;31m    from pip._internal.commands import (\n",
      "\u001b[1;31m  File \"/Library/Developer/CommandLineTools/Library/Frameworks/Python3.framework/Versions/3.8/lib/python3.8/site-packages/pip/_internal/commands/__init__.py\", line 6, in <module>\n",
      "\u001b[1;31m    from pip._internal.commands.completion import CompletionCommand\n",
      "\u001b[1;31m  File \"/Library/Developer/CommandLineTools/Library/Frameworks/Python3.framework/Versions/3.8/lib/python3.8/site-packages/pip/_internal/commands/completion.py\", line 6, in <module>\n",
      "\u001b[1;31m    from pip._internal.cli.base_command import Command\n",
      "\u001b[1;31m  File \"/Library/Developer/CommandLineTools/Library/Frameworks/Python3.framework/Versions/3.8/lib/python3.8/site-packages/pip/_internal/cli/base_command.py\", line 26, in <module>\n",
      "\u001b[1;31m    from pip._internal.index import PackageFinder\n",
      "\u001b[1;31mImportError: cannot import name 'PackageFinder' from 'pip._internal.index' (/Library/Developer/CommandLineTools/Library/Frameworks/Python3.framework/Versions/3.8/lib/python3.8/site-packages/pip/_internal/index/__init__.py). \n",
      "\u001b[1;31mView Jupyter <a href='command:jupyter.viewOutput'>log</a> for further details."
     ]
    }
   ],
   "source": [
    "import pandas as pd\n",
    "import numpy as np\n",
    "import seaborn as sns\n",
    "import matplotlib.pyplot as plt\n",
    "from lifelines import CoxPHFitter\n",
    "from pandas_profiling import ProfileReport\n",
    "import datetime as dt\n",
    "import plotly.express as px\n",
    "from lifetimes import BetaGeoFitter\n",
    "from lifetimes import GammaGammaFitter\n",
    "from lifetimes.plotting import *\n",
    "from lifetimes.utils import *\n",
    "from lifetimes.utils import summary_data_from_transaction_data\n",
    "from lifetimes.plotting import plot_probability_alive_matrix\n",
    "from lifetimes.plotting import plot_frequency_recency_matrix\n",
    "from lifetimes.plotting import plot_period_transactions\n",
    "from lifetimes.utils import calibration_and_holdout_data\n",
    "import squarify"
   ]
  },
  {
   "cell_type": "markdown",
   "id": "03d99b27",
   "metadata": {},
   "source": [
    "# Data Preperation"
   ]
  },
  {
   "cell_type": "code",
   "execution_count": null,
   "id": "86cc04e6",
   "metadata": {},
   "outputs": [
    {
     "ename": "",
     "evalue": "",
     "output_type": "error",
     "traceback": [
      "\u001b[1;31mFailed to start the Kernel. \n",
      "\u001b[1;31mreturn _run_code(code, main_globals, None,\n",
      "\u001b[1;31m  File \"/Library/Developer/CommandLineTools/Library/Frameworks/Python3.framework/Versions/3.8/lib/python3.8/runpy.py\", line 86, in _run_code\n",
      "\u001b[1;31m    exec(code, run_globals)\n",
      "\u001b[1;31m  File \"/Library/Developer/CommandLineTools/Library/Frameworks/Python3.framework/Versions/3.8/lib/python3.8/site-packages/pip/__main__.py\", line 16, in <module>\n",
      "\u001b[1;31m    from pip._internal import main as _main  # isort:skip # noqa\n",
      "\u001b[1;31m  File \"/Library/Developer/CommandLineTools/Library/Frameworks/Python3.framework/Versions/3.8/lib/python3.8/site-packages/pip/_internal/__init__.py\", line 40, in <module>\n",
      "\u001b[1;31m    from pip._internal.cli.autocompletion import autocomplete\n",
      "\u001b[1;31m  File \"/Library/Developer/CommandLineTools/Library/Frameworks/Python3.framework/Versions/3.8/lib/python3.8/site-packages/pip/_internal/cli/autocompletion.py\", line 8, in <module>\n",
      "\u001b[1;31m    from pip._internal.cli.main_parser import create_main_parser\n",
      "\u001b[1;31m  File \"/Library/Developer/CommandLineTools/Library/Frameworks/Python3.framework/Versions/3.8/lib/python3.8/site-packages/pip/_internal/cli/main_parser.py\", line 11, in <module>\n",
      "\u001b[1;31m    from pip._internal.commands import (\n",
      "\u001b[1;31m  File \"/Library/Developer/CommandLineTools/Library/Frameworks/Python3.framework/Versions/3.8/lib/python3.8/site-packages/pip/_internal/commands/__init__.py\", line 6, in <module>\n",
      "\u001b[1;31m    from pip._internal.commands.completion import CompletionCommand\n",
      "\u001b[1;31m  File \"/Library/Developer/CommandLineTools/Library/Frameworks/Python3.framework/Versions/3.8/lib/python3.8/site-packages/pip/_internal/commands/completion.py\", line 6, in <module>\n",
      "\u001b[1;31m    from pip._internal.cli.base_command import Command\n",
      "\u001b[1;31m  File \"/Library/Developer/CommandLineTools/Library/Frameworks/Python3.framework/Versions/3.8/lib/python3.8/site-packages/pip/_internal/cli/base_command.py\", line 26, in <module>\n",
      "\u001b[1;31m    from pip._internal.index import PackageFinder\n",
      "\u001b[1;31mImportError: cannot import name 'PackageFinder' from 'pip._internal.index' (/Library/Developer/CommandLineTools/Library/Frameworks/Python3.framework/Versions/3.8/lib/python3.8/site-packages/pip/_internal/index/__init__.py). \n",
      "\u001b[1;31mView Jupyter <a href='command:jupyter.viewOutput'>log</a> for further details."
     ]
    }
   ],
   "source": [
    "data = pd.read_excel(\"Dataset.xlsx\")"
   ]
  },
  {
   "cell_type": "code",
   "execution_count": null,
   "id": "8c16b197",
   "metadata": {},
   "outputs": [
    {
     "ename": "",
     "evalue": "",
     "output_type": "error",
     "traceback": [
      "\u001b[1;31mFailed to start the Kernel. \n",
      "\u001b[1;31mreturn _run_code(code, main_globals, None,\n",
      "\u001b[1;31m  File \"/Library/Developer/CommandLineTools/Library/Frameworks/Python3.framework/Versions/3.8/lib/python3.8/runpy.py\", line 86, in _run_code\n",
      "\u001b[1;31m    exec(code, run_globals)\n",
      "\u001b[1;31m  File \"/Library/Developer/CommandLineTools/Library/Frameworks/Python3.framework/Versions/3.8/lib/python3.8/site-packages/pip/__main__.py\", line 16, in <module>\n",
      "\u001b[1;31m    from pip._internal import main as _main  # isort:skip # noqa\n",
      "\u001b[1;31m  File \"/Library/Developer/CommandLineTools/Library/Frameworks/Python3.framework/Versions/3.8/lib/python3.8/site-packages/pip/_internal/__init__.py\", line 40, in <module>\n",
      "\u001b[1;31m    from pip._internal.cli.autocompletion import autocomplete\n",
      "\u001b[1;31m  File \"/Library/Developer/CommandLineTools/Library/Frameworks/Python3.framework/Versions/3.8/lib/python3.8/site-packages/pip/_internal/cli/autocompletion.py\", line 8, in <module>\n",
      "\u001b[1;31m    from pip._internal.cli.main_parser import create_main_parser\n",
      "\u001b[1;31m  File \"/Library/Developer/CommandLineTools/Library/Frameworks/Python3.framework/Versions/3.8/lib/python3.8/site-packages/pip/_internal/cli/main_parser.py\", line 11, in <module>\n",
      "\u001b[1;31m    from pip._internal.commands import (\n",
      "\u001b[1;31m  File \"/Library/Developer/CommandLineTools/Library/Frameworks/Python3.framework/Versions/3.8/lib/python3.8/site-packages/pip/_internal/commands/__init__.py\", line 6, in <module>\n",
      "\u001b[1;31m    from pip._internal.commands.completion import CompletionCommand\n",
      "\u001b[1;31m  File \"/Library/Developer/CommandLineTools/Library/Frameworks/Python3.framework/Versions/3.8/lib/python3.8/site-packages/pip/_internal/commands/completion.py\", line 6, in <module>\n",
      "\u001b[1;31m    from pip._internal.cli.base_command import Command\n",
      "\u001b[1;31m  File \"/Library/Developer/CommandLineTools/Library/Frameworks/Python3.framework/Versions/3.8/lib/python3.8/site-packages/pip/_internal/cli/base_command.py\", line 26, in <module>\n",
      "\u001b[1;31m    from pip._internal.index import PackageFinder\n",
      "\u001b[1;31mImportError: cannot import name 'PackageFinder' from 'pip._internal.index' (/Library/Developer/CommandLineTools/Library/Frameworks/Python3.framework/Versions/3.8/lib/python3.8/site-packages/pip/_internal/index/__init__.py). \n",
      "\u001b[1;31mView Jupyter <a href='command:jupyter.viewOutput'>log</a> for further details."
     ]
    }
   ],
   "source": [
    "data['InvoiceDate'].agg(['min', 'max'])"
   ]
  },
  {
   "cell_type": "code",
   "execution_count": null,
   "id": "2c1ead4a",
   "metadata": {},
   "outputs": [
    {
     "ename": "",
     "evalue": "",
     "output_type": "error",
     "traceback": [
      "\u001b[1;31mFailed to start the Kernel. \n",
      "\u001b[1;31mreturn _run_code(code, main_globals, None,\n",
      "\u001b[1;31m  File \"/Library/Developer/CommandLineTools/Library/Frameworks/Python3.framework/Versions/3.8/lib/python3.8/runpy.py\", line 86, in _run_code\n",
      "\u001b[1;31m    exec(code, run_globals)\n",
      "\u001b[1;31m  File \"/Library/Developer/CommandLineTools/Library/Frameworks/Python3.framework/Versions/3.8/lib/python3.8/site-packages/pip/__main__.py\", line 16, in <module>\n",
      "\u001b[1;31m    from pip._internal import main as _main  # isort:skip # noqa\n",
      "\u001b[1;31m  File \"/Library/Developer/CommandLineTools/Library/Frameworks/Python3.framework/Versions/3.8/lib/python3.8/site-packages/pip/_internal/__init__.py\", line 40, in <module>\n",
      "\u001b[1;31m    from pip._internal.cli.autocompletion import autocomplete\n",
      "\u001b[1;31m  File \"/Library/Developer/CommandLineTools/Library/Frameworks/Python3.framework/Versions/3.8/lib/python3.8/site-packages/pip/_internal/cli/autocompletion.py\", line 8, in <module>\n",
      "\u001b[1;31m    from pip._internal.cli.main_parser import create_main_parser\n",
      "\u001b[1;31m  File \"/Library/Developer/CommandLineTools/Library/Frameworks/Python3.framework/Versions/3.8/lib/python3.8/site-packages/pip/_internal/cli/main_parser.py\", line 11, in <module>\n",
      "\u001b[1;31m    from pip._internal.commands import (\n",
      "\u001b[1;31m  File \"/Library/Developer/CommandLineTools/Library/Frameworks/Python3.framework/Versions/3.8/lib/python3.8/site-packages/pip/_internal/commands/__init__.py\", line 6, in <module>\n",
      "\u001b[1;31m    from pip._internal.commands.completion import CompletionCommand\n",
      "\u001b[1;31m  File \"/Library/Developer/CommandLineTools/Library/Frameworks/Python3.framework/Versions/3.8/lib/python3.8/site-packages/pip/_internal/commands/completion.py\", line 6, in <module>\n",
      "\u001b[1;31m    from pip._internal.cli.base_command import Command\n",
      "\u001b[1;31m  File \"/Library/Developer/CommandLineTools/Library/Frameworks/Python3.framework/Versions/3.8/lib/python3.8/site-packages/pip/_internal/cli/base_command.py\", line 26, in <module>\n",
      "\u001b[1;31m    from pip._internal.index import PackageFinder\n",
      "\u001b[1;31mImportError: cannot import name 'PackageFinder' from 'pip._internal.index' (/Library/Developer/CommandLineTools/Library/Frameworks/Python3.framework/Versions/3.8/lib/python3.8/site-packages/pip/_internal/index/__init__.py). \n",
      "\u001b[1;31mView Jupyter <a href='command:jupyter.viewOutput'>log</a> for further details."
     ]
    }
   ],
   "source": [
    "data.head()"
   ]
  },
  {
   "cell_type": "code",
   "execution_count": null,
   "id": "76c6e26c",
   "metadata": {},
   "outputs": [
    {
     "ename": "",
     "evalue": "",
     "output_type": "error",
     "traceback": [
      "\u001b[1;31mFailed to start the Kernel. \n",
      "\u001b[1;31mreturn _run_code(code, main_globals, None,\n",
      "\u001b[1;31m  File \"/Library/Developer/CommandLineTools/Library/Frameworks/Python3.framework/Versions/3.8/lib/python3.8/runpy.py\", line 86, in _run_code\n",
      "\u001b[1;31m    exec(code, run_globals)\n",
      "\u001b[1;31m  File \"/Library/Developer/CommandLineTools/Library/Frameworks/Python3.framework/Versions/3.8/lib/python3.8/site-packages/pip/__main__.py\", line 16, in <module>\n",
      "\u001b[1;31m    from pip._internal import main as _main  # isort:skip # noqa\n",
      "\u001b[1;31m  File \"/Library/Developer/CommandLineTools/Library/Frameworks/Python3.framework/Versions/3.8/lib/python3.8/site-packages/pip/_internal/__init__.py\", line 40, in <module>\n",
      "\u001b[1;31m    from pip._internal.cli.autocompletion import autocomplete\n",
      "\u001b[1;31m  File \"/Library/Developer/CommandLineTools/Library/Frameworks/Python3.framework/Versions/3.8/lib/python3.8/site-packages/pip/_internal/cli/autocompletion.py\", line 8, in <module>\n",
      "\u001b[1;31m    from pip._internal.cli.main_parser import create_main_parser\n",
      "\u001b[1;31m  File \"/Library/Developer/CommandLineTools/Library/Frameworks/Python3.framework/Versions/3.8/lib/python3.8/site-packages/pip/_internal/cli/main_parser.py\", line 11, in <module>\n",
      "\u001b[1;31m    from pip._internal.commands import (\n",
      "\u001b[1;31m  File \"/Library/Developer/CommandLineTools/Library/Frameworks/Python3.framework/Versions/3.8/lib/python3.8/site-packages/pip/_internal/commands/__init__.py\", line 6, in <module>\n",
      "\u001b[1;31m    from pip._internal.commands.completion import CompletionCommand\n",
      "\u001b[1;31m  File \"/Library/Developer/CommandLineTools/Library/Frameworks/Python3.framework/Versions/3.8/lib/python3.8/site-packages/pip/_internal/commands/completion.py\", line 6, in <module>\n",
      "\u001b[1;31m    from pip._internal.cli.base_command import Command\n",
      "\u001b[1;31m  File \"/Library/Developer/CommandLineTools/Library/Frameworks/Python3.framework/Versions/3.8/lib/python3.8/site-packages/pip/_internal/cli/base_command.py\", line 26, in <module>\n",
      "\u001b[1;31m    from pip._internal.index import PackageFinder\n",
      "\u001b[1;31mImportError: cannot import name 'PackageFinder' from 'pip._internal.index' (/Library/Developer/CommandLineTools/Library/Frameworks/Python3.framework/Versions/3.8/lib/python3.8/site-packages/pip/_internal/index/__init__.py). \n",
      "\u001b[1;31mView Jupyter <a href='command:jupyter.viewOutput'>log</a> for further details."
     ]
    }
   ],
   "source": [
    "fd = data.drop_duplicates()\n",
    "fd = fd [['Customer ID','Description','InvoiceDate','Invoice','Quantity','Price', 'Country']]\n",
    "fd = fd[(fd['Quantity']>0)]\n",
    "fd['TotalPurchase'] = fd['Quantity'] * fd['Price']"
   ]
  },
  {
   "cell_type": "code",
   "execution_count": null,
   "id": "1f242590",
   "metadata": {},
   "outputs": [
    {
     "ename": "",
     "evalue": "",
     "output_type": "error",
     "traceback": [
      "\u001b[1;31mFailed to start the Kernel. \n",
      "\u001b[1;31mreturn _run_code(code, main_globals, None,\n",
      "\u001b[1;31m  File \"/Library/Developer/CommandLineTools/Library/Frameworks/Python3.framework/Versions/3.8/lib/python3.8/runpy.py\", line 86, in _run_code\n",
      "\u001b[1;31m    exec(code, run_globals)\n",
      "\u001b[1;31m  File \"/Library/Developer/CommandLineTools/Library/Frameworks/Python3.framework/Versions/3.8/lib/python3.8/site-packages/pip/__main__.py\", line 16, in <module>\n",
      "\u001b[1;31m    from pip._internal import main as _main  # isort:skip # noqa\n",
      "\u001b[1;31m  File \"/Library/Developer/CommandLineTools/Library/Frameworks/Python3.framework/Versions/3.8/lib/python3.8/site-packages/pip/_internal/__init__.py\", line 40, in <module>\n",
      "\u001b[1;31m    from pip._internal.cli.autocompletion import autocomplete\n",
      "\u001b[1;31m  File \"/Library/Developer/CommandLineTools/Library/Frameworks/Python3.framework/Versions/3.8/lib/python3.8/site-packages/pip/_internal/cli/autocompletion.py\", line 8, in <module>\n",
      "\u001b[1;31m    from pip._internal.cli.main_parser import create_main_parser\n",
      "\u001b[1;31m  File \"/Library/Developer/CommandLineTools/Library/Frameworks/Python3.framework/Versions/3.8/lib/python3.8/site-packages/pip/_internal/cli/main_parser.py\", line 11, in <module>\n",
      "\u001b[1;31m    from pip._internal.commands import (\n",
      "\u001b[1;31m  File \"/Library/Developer/CommandLineTools/Library/Frameworks/Python3.framework/Versions/3.8/lib/python3.8/site-packages/pip/_internal/commands/__init__.py\", line 6, in <module>\n",
      "\u001b[1;31m    from pip._internal.commands.completion import CompletionCommand\n",
      "\u001b[1;31m  File \"/Library/Developer/CommandLineTools/Library/Frameworks/Python3.framework/Versions/3.8/lib/python3.8/site-packages/pip/_internal/commands/completion.py\", line 6, in <module>\n",
      "\u001b[1;31m    from pip._internal.cli.base_command import Command\n",
      "\u001b[1;31m  File \"/Library/Developer/CommandLineTools/Library/Frameworks/Python3.framework/Versions/3.8/lib/python3.8/site-packages/pip/_internal/cli/base_command.py\", line 26, in <module>\n",
      "\u001b[1;31m    from pip._internal.index import PackageFinder\n",
      "\u001b[1;31mImportError: cannot import name 'PackageFinder' from 'pip._internal.index' (/Library/Developer/CommandLineTools/Library/Frameworks/Python3.framework/Versions/3.8/lib/python3.8/site-packages/pip/_internal/index/__init__.py). \n",
      "\u001b[1;31mView Jupyter <a href='command:jupyter.viewOutput'>log</a> for further details."
     ]
    }
   ],
   "source": [
    "df_plot_bar = fd.groupby('Description').agg({'TotalPurchase':'sum'}).sort_values(by = 'TotalPurchase', ascending=False).reset_index().head(5)\n",
    "df_plot_bar['Percent'] = round((df_plot_bar['TotalPurchase'] / df_plot_bar['TotalPurchase'].sum()) * 100,2)\n",
    "fir_plotbar = px.bar(df_plot_bar, y='Percent', x='Description', title='Top selling products', \n",
    "text='Percent', color='Percent')\n",
    "fir_plotbar.update_traces(texttemplate='%{text:.2s}', textposition='inside')\n",
    "fir_plotbar.update_layout({\n",
    "'plot_bgcolor': 'rgba(0, 0, 0, 0)',\n",
    "'paper_bgcolor': 'rgba(1, 0, 0, 0)',\n",
    "})\n",
    "fir_plotbar.update_layout(uniformtext_minsize=8, uniformtext_mode='hide',showlegend=False)                \n",
    "            "
   ]
  },
  {
   "cell_type": "code",
   "execution_count": null,
   "id": "d370a049",
   "metadata": {},
   "outputs": [
    {
     "ename": "",
     "evalue": "",
     "output_type": "error",
     "traceback": [
      "\u001b[1;31mFailed to start the Kernel. \n",
      "\u001b[1;31mreturn _run_code(code, main_globals, None,\n",
      "\u001b[1;31m  File \"/Library/Developer/CommandLineTools/Library/Frameworks/Python3.framework/Versions/3.8/lib/python3.8/runpy.py\", line 86, in _run_code\n",
      "\u001b[1;31m    exec(code, run_globals)\n",
      "\u001b[1;31m  File \"/Library/Developer/CommandLineTools/Library/Frameworks/Python3.framework/Versions/3.8/lib/python3.8/site-packages/pip/__main__.py\", line 16, in <module>\n",
      "\u001b[1;31m    from pip._internal import main as _main  # isort:skip # noqa\n",
      "\u001b[1;31m  File \"/Library/Developer/CommandLineTools/Library/Frameworks/Python3.framework/Versions/3.8/lib/python3.8/site-packages/pip/_internal/__init__.py\", line 40, in <module>\n",
      "\u001b[1;31m    from pip._internal.cli.autocompletion import autocomplete\n",
      "\u001b[1;31m  File \"/Library/Developer/CommandLineTools/Library/Frameworks/Python3.framework/Versions/3.8/lib/python3.8/site-packages/pip/_internal/cli/autocompletion.py\", line 8, in <module>\n",
      "\u001b[1;31m    from pip._internal.cli.main_parser import create_main_parser\n",
      "\u001b[1;31m  File \"/Library/Developer/CommandLineTools/Library/Frameworks/Python3.framework/Versions/3.8/lib/python3.8/site-packages/pip/_internal/cli/main_parser.py\", line 11, in <module>\n",
      "\u001b[1;31m    from pip._internal.commands import (\n",
      "\u001b[1;31m  File \"/Library/Developer/CommandLineTools/Library/Frameworks/Python3.framework/Versions/3.8/lib/python3.8/site-packages/pip/_internal/commands/__init__.py\", line 6, in <module>\n",
      "\u001b[1;31m    from pip._internal.commands.completion import CompletionCommand\n",
      "\u001b[1;31m  File \"/Library/Developer/CommandLineTools/Library/Frameworks/Python3.framework/Versions/3.8/lib/python3.8/site-packages/pip/_internal/commands/completion.py\", line 6, in <module>\n",
      "\u001b[1;31m    from pip._internal.cli.base_command import Command\n",
      "\u001b[1;31m  File \"/Library/Developer/CommandLineTools/Library/Frameworks/Python3.framework/Versions/3.8/lib/python3.8/site-packages/pip/_internal/cli/base_command.py\", line 26, in <module>\n",
      "\u001b[1;31m    from pip._internal.index import PackageFinder\n",
      "\u001b[1;31mImportError: cannot import name 'PackageFinder' from 'pip._internal.index' (/Library/Developer/CommandLineTools/Library/Frameworks/Python3.framework/Versions/3.8/lib/python3.8/site-packages/pip/_internal/index/__init__.py). \n",
      "\u001b[1;31mView Jupyter <a href='command:jupyter.viewOutput'>log</a> for further details."
     ]
    }
   ],
   "source": [
    "df_plot = fd.groupby(['Country','Description','Price','Quantity']).agg({'TotalPurchase': 'sum'},{'Quantity':'sum'}).reset_index()\n",
    "fig_miricle = px.scatter(df_plot[:25000], x=\"Price\", y=\"Quantity\", color = 'Country', \n",
    "        size='TotalPurchase',  size_max=20, log_y= True, log_x= True, title= \"PURCHASE TREND ACROSS COUNTRIES\")\n",
    "fig_miricle.update_layout({\n",
    "'plot_bgcolor': 'rgba(0, 0, 0, 0)',\n",
    "'paper_bgcolor': 'rgba(1, 0, 0, 0)',\n",
    "})\n",
    "fig_miricle.show()"
   ]
  },
  {
   "cell_type": "code",
   "execution_count": null,
   "id": "2b8dc30e",
   "metadata": {
    "scrolled": true
   },
   "outputs": [
    {
     "ename": "",
     "evalue": "",
     "output_type": "error",
     "traceback": [
      "\u001b[1;31mFailed to start the Kernel. \n",
      "\u001b[1;31mreturn _run_code(code, main_globals, None,\n",
      "\u001b[1;31m  File \"/Library/Developer/CommandLineTools/Library/Frameworks/Python3.framework/Versions/3.8/lib/python3.8/runpy.py\", line 86, in _run_code\n",
      "\u001b[1;31m    exec(code, run_globals)\n",
      "\u001b[1;31m  File \"/Library/Developer/CommandLineTools/Library/Frameworks/Python3.framework/Versions/3.8/lib/python3.8/site-packages/pip/__main__.py\", line 16, in <module>\n",
      "\u001b[1;31m    from pip._internal import main as _main  # isort:skip # noqa\n",
      "\u001b[1;31m  File \"/Library/Developer/CommandLineTools/Library/Frameworks/Python3.framework/Versions/3.8/lib/python3.8/site-packages/pip/_internal/__init__.py\", line 40, in <module>\n",
      "\u001b[1;31m    from pip._internal.cli.autocompletion import autocomplete\n",
      "\u001b[1;31m  File \"/Library/Developer/CommandLineTools/Library/Frameworks/Python3.framework/Versions/3.8/lib/python3.8/site-packages/pip/_internal/cli/autocompletion.py\", line 8, in <module>\n",
      "\u001b[1;31m    from pip._internal.cli.main_parser import create_main_parser\n",
      "\u001b[1;31m  File \"/Library/Developer/CommandLineTools/Library/Frameworks/Python3.framework/Versions/3.8/lib/python3.8/site-packages/pip/_internal/cli/main_parser.py\", line 11, in <module>\n",
      "\u001b[1;31m    from pip._internal.commands import (\n",
      "\u001b[1;31m  File \"/Library/Developer/CommandLineTools/Library/Frameworks/Python3.framework/Versions/3.8/lib/python3.8/site-packages/pip/_internal/commands/__init__.py\", line 6, in <module>\n",
      "\u001b[1;31m    from pip._internal.commands.completion import CompletionCommand\n",
      "\u001b[1;31m  File \"/Library/Developer/CommandLineTools/Library/Frameworks/Python3.framework/Versions/3.8/lib/python3.8/site-packages/pip/_internal/commands/completion.py\", line 6, in <module>\n",
      "\u001b[1;31m    from pip._internal.cli.base_command import Command\n",
      "\u001b[1;31m  File \"/Library/Developer/CommandLineTools/Library/Frameworks/Python3.framework/Versions/3.8/lib/python3.8/site-packages/pip/_internal/cli/base_command.py\", line 26, in <module>\n",
      "\u001b[1;31m    from pip._internal.index import PackageFinder\n",
      "\u001b[1;31mImportError: cannot import name 'PackageFinder' from 'pip._internal.index' (/Library/Developer/CommandLineTools/Library/Frameworks/Python3.framework/Versions/3.8/lib/python3.8/site-packages/pip/_internal/index/__init__.py). \n",
      "\u001b[1;31mView Jupyter <a href='command:jupyter.viewOutput'>log</a> for further details."
     ]
    }
   ],
   "source": [
    "import plotly.graph_objects as go\n",
    "fig = go.Figure([go.Scatter(x=fd['InvoiceDate'], y=fd['Quantity'])])\n",
    "fig.show()"
   ]
  },
  {
   "cell_type": "code",
   "execution_count": null,
   "id": "71bf1803",
   "metadata": {
    "scrolled": true
   },
   "outputs": [
    {
     "ename": "",
     "evalue": "",
     "output_type": "error",
     "traceback": [
      "\u001b[1;31mFailed to start the Kernel. \n",
      "\u001b[1;31mreturn _run_code(code, main_globals, None,\n",
      "\u001b[1;31m  File \"/Library/Developer/CommandLineTools/Library/Frameworks/Python3.framework/Versions/3.8/lib/python3.8/runpy.py\", line 86, in _run_code\n",
      "\u001b[1;31m    exec(code, run_globals)\n",
      "\u001b[1;31m  File \"/Library/Developer/CommandLineTools/Library/Frameworks/Python3.framework/Versions/3.8/lib/python3.8/site-packages/pip/__main__.py\", line 16, in <module>\n",
      "\u001b[1;31m    from pip._internal import main as _main  # isort:skip # noqa\n",
      "\u001b[1;31m  File \"/Library/Developer/CommandLineTools/Library/Frameworks/Python3.framework/Versions/3.8/lib/python3.8/site-packages/pip/_internal/__init__.py\", line 40, in <module>\n",
      "\u001b[1;31m    from pip._internal.cli.autocompletion import autocomplete\n",
      "\u001b[1;31m  File \"/Library/Developer/CommandLineTools/Library/Frameworks/Python3.framework/Versions/3.8/lib/python3.8/site-packages/pip/_internal/cli/autocompletion.py\", line 8, in <module>\n",
      "\u001b[1;31m    from pip._internal.cli.main_parser import create_main_parser\n",
      "\u001b[1;31m  File \"/Library/Developer/CommandLineTools/Library/Frameworks/Python3.framework/Versions/3.8/lib/python3.8/site-packages/pip/_internal/cli/main_parser.py\", line 11, in <module>\n",
      "\u001b[1;31m    from pip._internal.commands import (\n",
      "\u001b[1;31m  File \"/Library/Developer/CommandLineTools/Library/Frameworks/Python3.framework/Versions/3.8/lib/python3.8/site-packages/pip/_internal/commands/__init__.py\", line 6, in <module>\n",
      "\u001b[1;31m    from pip._internal.commands.completion import CompletionCommand\n",
      "\u001b[1;31m  File \"/Library/Developer/CommandLineTools/Library/Frameworks/Python3.framework/Versions/3.8/lib/python3.8/site-packages/pip/_internal/commands/completion.py\", line 6, in <module>\n",
      "\u001b[1;31m    from pip._internal.cli.base_command import Command\n",
      "\u001b[1;31m  File \"/Library/Developer/CommandLineTools/Library/Frameworks/Python3.framework/Versions/3.8/lib/python3.8/site-packages/pip/_internal/cli/base_command.py\", line 26, in <module>\n",
      "\u001b[1;31m    from pip._internal.index import PackageFinder\n",
      "\u001b[1;31mImportError: cannot import name 'PackageFinder' from 'pip._internal.index' (/Library/Developer/CommandLineTools/Library/Frameworks/Python3.framework/Versions/3.8/lib/python3.8/site-packages/pip/_internal/index/__init__.py). \n",
      "\u001b[1;31mView Jupyter <a href='command:jupyter.viewOutput'>log</a> for further details."
     ]
    }
   ],
   "source": [
    "from wordcloud import WordCloud\n",
    "text = \" \".join(review for review in data.Country.astype(str))\n",
    "x, y = np.ogrid[:300, :00]\n",
    "#mask = (x - 150) ** 2 + (y - 150) ** 2 > 130 ** 2\n",
    "#mask = 560 * mask.astype(int)\n",
    "wc = WordCloud(background_color=\"white\", repeat=True, mask=mask, width=1600, height=800,  colormap='Dark2',)\n",
    "wc.generate(text)\n",
    "plt.axis(\"off\")\n",
    "plt.imshow(wc, interpolation=\"bilinear\")\n",
    "plt.show()\n"
   ]
  },
  {
   "cell_type": "code",
   "execution_count": null,
   "id": "d811cf91",
   "metadata": {},
   "outputs": [
    {
     "ename": "",
     "evalue": "",
     "output_type": "error",
     "traceback": [
      "\u001b[1;31mFailed to start the Kernel. \n",
      "\u001b[1;31mreturn _run_code(code, main_globals, None,\n",
      "\u001b[1;31m  File \"/Library/Developer/CommandLineTools/Library/Frameworks/Python3.framework/Versions/3.8/lib/python3.8/runpy.py\", line 86, in _run_code\n",
      "\u001b[1;31m    exec(code, run_globals)\n",
      "\u001b[1;31m  File \"/Library/Developer/CommandLineTools/Library/Frameworks/Python3.framework/Versions/3.8/lib/python3.8/site-packages/pip/__main__.py\", line 16, in <module>\n",
      "\u001b[1;31m    from pip._internal import main as _main  # isort:skip # noqa\n",
      "\u001b[1;31m  File \"/Library/Developer/CommandLineTools/Library/Frameworks/Python3.framework/Versions/3.8/lib/python3.8/site-packages/pip/_internal/__init__.py\", line 40, in <module>\n",
      "\u001b[1;31m    from pip._internal.cli.autocompletion import autocomplete\n",
      "\u001b[1;31m  File \"/Library/Developer/CommandLineTools/Library/Frameworks/Python3.framework/Versions/3.8/lib/python3.8/site-packages/pip/_internal/cli/autocompletion.py\", line 8, in <module>\n",
      "\u001b[1;31m    from pip._internal.cli.main_parser import create_main_parser\n",
      "\u001b[1;31m  File \"/Library/Developer/CommandLineTools/Library/Frameworks/Python3.framework/Versions/3.8/lib/python3.8/site-packages/pip/_internal/cli/main_parser.py\", line 11, in <module>\n",
      "\u001b[1;31m    from pip._internal.commands import (\n",
      "\u001b[1;31m  File \"/Library/Developer/CommandLineTools/Library/Frameworks/Python3.framework/Versions/3.8/lib/python3.8/site-packages/pip/_internal/commands/__init__.py\", line 6, in <module>\n",
      "\u001b[1;31m    from pip._internal.commands.completion import CompletionCommand\n",
      "\u001b[1;31m  File \"/Library/Developer/CommandLineTools/Library/Frameworks/Python3.framework/Versions/3.8/lib/python3.8/site-packages/pip/_internal/commands/completion.py\", line 6, in <module>\n",
      "\u001b[1;31m    from pip._internal.cli.base_command import Command\n",
      "\u001b[1;31m  File \"/Library/Developer/CommandLineTools/Library/Frameworks/Python3.framework/Versions/3.8/lib/python3.8/site-packages/pip/_internal/cli/base_command.py\", line 26, in <module>\n",
      "\u001b[1;31m    from pip._internal.index import PackageFinder\n",
      "\u001b[1;31mImportError: cannot import name 'PackageFinder' from 'pip._internal.index' (/Library/Developer/CommandLineTools/Library/Frameworks/Python3.framework/Versions/3.8/lib/python3.8/site-packages/pip/_internal/index/__init__.py). \n",
      "\u001b[1;31mView Jupyter <a href='command:jupyter.viewOutput'>log</a> for further details."
     ]
    }
   ],
   "source": [
    "new = summary_data_from_transaction_data(fd, 'Customer ID', 'InvoiceDate', monetary_value_col='TotalPurchase', observation_period_end='2011-12-9')\n",
    "new.head()"
   ]
  },
  {
   "cell_type": "code",
   "execution_count": null,
   "id": "1a8960b7",
   "metadata": {},
   "outputs": [
    {
     "ename": "",
     "evalue": "",
     "output_type": "error",
     "traceback": [
      "\u001b[1;31mFailed to start the Kernel. \n",
      "\u001b[1;31mreturn _run_code(code, main_globals, None,\n",
      "\u001b[1;31m  File \"/Library/Developer/CommandLineTools/Library/Frameworks/Python3.framework/Versions/3.8/lib/python3.8/runpy.py\", line 86, in _run_code\n",
      "\u001b[1;31m    exec(code, run_globals)\n",
      "\u001b[1;31m  File \"/Library/Developer/CommandLineTools/Library/Frameworks/Python3.framework/Versions/3.8/lib/python3.8/site-packages/pip/__main__.py\", line 16, in <module>\n",
      "\u001b[1;31m    from pip._internal import main as _main  # isort:skip # noqa\n",
      "\u001b[1;31m  File \"/Library/Developer/CommandLineTools/Library/Frameworks/Python3.framework/Versions/3.8/lib/python3.8/site-packages/pip/_internal/__init__.py\", line 40, in <module>\n",
      "\u001b[1;31m    from pip._internal.cli.autocompletion import autocomplete\n",
      "\u001b[1;31m  File \"/Library/Developer/CommandLineTools/Library/Frameworks/Python3.framework/Versions/3.8/lib/python3.8/site-packages/pip/_internal/cli/autocompletion.py\", line 8, in <module>\n",
      "\u001b[1;31m    from pip._internal.cli.main_parser import create_main_parser\n",
      "\u001b[1;31m  File \"/Library/Developer/CommandLineTools/Library/Frameworks/Python3.framework/Versions/3.8/lib/python3.8/site-packages/pip/_internal/cli/main_parser.py\", line 11, in <module>\n",
      "\u001b[1;31m    from pip._internal.commands import (\n",
      "\u001b[1;31m  File \"/Library/Developer/CommandLineTools/Library/Frameworks/Python3.framework/Versions/3.8/lib/python3.8/site-packages/pip/_internal/commands/__init__.py\", line 6, in <module>\n",
      "\u001b[1;31m    from pip._internal.commands.completion import CompletionCommand\n",
      "\u001b[1;31m  File \"/Library/Developer/CommandLineTools/Library/Frameworks/Python3.framework/Versions/3.8/lib/python3.8/site-packages/pip/_internal/commands/completion.py\", line 6, in <module>\n",
      "\u001b[1;31m    from pip._internal.cli.base_command import Command\n",
      "\u001b[1;31m  File \"/Library/Developer/CommandLineTools/Library/Frameworks/Python3.framework/Versions/3.8/lib/python3.8/site-packages/pip/_internal/cli/base_command.py\", line 26, in <module>\n",
      "\u001b[1;31m    from pip._internal.index import PackageFinder\n",
      "\u001b[1;31mImportError: cannot import name 'PackageFinder' from 'pip._internal.index' (/Library/Developer/CommandLineTools/Library/Frameworks/Python3.framework/Versions/3.8/lib/python3.8/site-packages/pip/_internal/index/__init__.py). \n",
      "\u001b[1;31mView Jupyter <a href='command:jupyter.viewOutput'>log</a> for further details."
     ]
    }
   ],
   "source": [
    "new['percent'] = round((new['frequency'] / new['frequency'].sum()) * 100,2)\n",
    "fir_plot = px.bar(new, y=new['percent'], x=new['frequency'], title='Frequency BarChart', color='percent')\n",
    "fir_plot.show()"
   ]
  },
  {
   "cell_type": "code",
   "execution_count": null,
   "id": "269bad35",
   "metadata": {},
   "outputs": [
    {
     "ename": "",
     "evalue": "",
     "output_type": "error",
     "traceback": [
      "\u001b[1;31mFailed to start the Kernel. \n",
      "\u001b[1;31mreturn _run_code(code, main_globals, None,\n",
      "\u001b[1;31m  File \"/Library/Developer/CommandLineTools/Library/Frameworks/Python3.framework/Versions/3.8/lib/python3.8/runpy.py\", line 86, in _run_code\n",
      "\u001b[1;31m    exec(code, run_globals)\n",
      "\u001b[1;31m  File \"/Library/Developer/CommandLineTools/Library/Frameworks/Python3.framework/Versions/3.8/lib/python3.8/site-packages/pip/__main__.py\", line 16, in <module>\n",
      "\u001b[1;31m    from pip._internal import main as _main  # isort:skip # noqa\n",
      "\u001b[1;31m  File \"/Library/Developer/CommandLineTools/Library/Frameworks/Python3.framework/Versions/3.8/lib/python3.8/site-packages/pip/_internal/__init__.py\", line 40, in <module>\n",
      "\u001b[1;31m    from pip._internal.cli.autocompletion import autocomplete\n",
      "\u001b[1;31m  File \"/Library/Developer/CommandLineTools/Library/Frameworks/Python3.framework/Versions/3.8/lib/python3.8/site-packages/pip/_internal/cli/autocompletion.py\", line 8, in <module>\n",
      "\u001b[1;31m    from pip._internal.cli.main_parser import create_main_parser\n",
      "\u001b[1;31m  File \"/Library/Developer/CommandLineTools/Library/Frameworks/Python3.framework/Versions/3.8/lib/python3.8/site-packages/pip/_internal/cli/main_parser.py\", line 11, in <module>\n",
      "\u001b[1;31m    from pip._internal.commands import (\n",
      "\u001b[1;31m  File \"/Library/Developer/CommandLineTools/Library/Frameworks/Python3.framework/Versions/3.8/lib/python3.8/site-packages/pip/_internal/commands/__init__.py\", line 6, in <module>\n",
      "\u001b[1;31m    from pip._internal.commands.completion import CompletionCommand\n",
      "\u001b[1;31m  File \"/Library/Developer/CommandLineTools/Library/Frameworks/Python3.framework/Versions/3.8/lib/python3.8/site-packages/pip/_internal/commands/completion.py\", line 6, in <module>\n",
      "\u001b[1;31m    from pip._internal.cli.base_command import Command\n",
      "\u001b[1;31m  File \"/Library/Developer/CommandLineTools/Library/Frameworks/Python3.framework/Versions/3.8/lib/python3.8/site-packages/pip/_internal/cli/base_command.py\", line 26, in <module>\n",
      "\u001b[1;31m    from pip._internal.index import PackageFinder\n",
      "\u001b[1;31mImportError: cannot import name 'PackageFinder' from 'pip._internal.index' (/Library/Developer/CommandLineTools/Library/Frameworks/Python3.framework/Versions/3.8/lib/python3.8/site-packages/pip/_internal/index/__init__.py). \n",
      "\u001b[1;31mView Jupyter <a href='command:jupyter.viewOutput'>log</a> for further details."
     ]
    }
   ],
   "source": [
    "fdg = fd.groupby(['Customer ID','Country']).agg({'InvoiceDate': lambda date: (date.max() - date.min()).days,\n",
    "                                                 'Quantity': lambda quant: quant.sum(),\n",
    "                                                 'Invoice': lambda num: len(num),\n",
    "                                                 'TotalPurchase': lambda price: price.sum()    })"
   ]
  },
  {
   "cell_type": "code",
   "execution_count": null,
   "id": "f720eb99",
   "metadata": {},
   "outputs": [
    {
     "ename": "",
     "evalue": "",
     "output_type": "error",
     "traceback": [
      "\u001b[1;31mFailed to start the Kernel. \n",
      "\u001b[1;31mreturn _run_code(code, main_globals, None,\n",
      "\u001b[1;31m  File \"/Library/Developer/CommandLineTools/Library/Frameworks/Python3.framework/Versions/3.8/lib/python3.8/runpy.py\", line 86, in _run_code\n",
      "\u001b[1;31m    exec(code, run_globals)\n",
      "\u001b[1;31m  File \"/Library/Developer/CommandLineTools/Library/Frameworks/Python3.framework/Versions/3.8/lib/python3.8/site-packages/pip/__main__.py\", line 16, in <module>\n",
      "\u001b[1;31m    from pip._internal import main as _main  # isort:skip # noqa\n",
      "\u001b[1;31m  File \"/Library/Developer/CommandLineTools/Library/Frameworks/Python3.framework/Versions/3.8/lib/python3.8/site-packages/pip/_internal/__init__.py\", line 40, in <module>\n",
      "\u001b[1;31m    from pip._internal.cli.autocompletion import autocomplete\n",
      "\u001b[1;31m  File \"/Library/Developer/CommandLineTools/Library/Frameworks/Python3.framework/Versions/3.8/lib/python3.8/site-packages/pip/_internal/cli/autocompletion.py\", line 8, in <module>\n",
      "\u001b[1;31m    from pip._internal.cli.main_parser import create_main_parser\n",
      "\u001b[1;31m  File \"/Library/Developer/CommandLineTools/Library/Frameworks/Python3.framework/Versions/3.8/lib/python3.8/site-packages/pip/_internal/cli/main_parser.py\", line 11, in <module>\n",
      "\u001b[1;31m    from pip._internal.commands import (\n",
      "\u001b[1;31m  File \"/Library/Developer/CommandLineTools/Library/Frameworks/Python3.framework/Versions/3.8/lib/python3.8/site-packages/pip/_internal/commands/__init__.py\", line 6, in <module>\n",
      "\u001b[1;31m    from pip._internal.commands.completion import CompletionCommand\n",
      "\u001b[1;31m  File \"/Library/Developer/CommandLineTools/Library/Frameworks/Python3.framework/Versions/3.8/lib/python3.8/site-packages/pip/_internal/commands/completion.py\", line 6, in <module>\n",
      "\u001b[1;31m    from pip._internal.cli.base_command import Command\n",
      "\u001b[1;31m  File \"/Library/Developer/CommandLineTools/Library/Frameworks/Python3.framework/Versions/3.8/lib/python3.8/site-packages/pip/_internal/cli/base_command.py\", line 26, in <module>\n",
      "\u001b[1;31m    from pip._internal.index import PackageFinder\n",
      "\u001b[1;31mImportError: cannot import name 'PackageFinder' from 'pip._internal.index' (/Library/Developer/CommandLineTools/Library/Frameworks/Python3.framework/Versions/3.8/lib/python3.8/site-packages/pip/_internal/index/__init__.py). \n",
      "\u001b[1;31mView Jupyter <a href='command:jupyter.viewOutput'>log</a> for further details."
     ]
    }
   ],
   "source": [
    "fdg.columns=['num_days','num_transactions','num_units','spent_money']\n",
    "fdg['avg_order_value'] = fdg['spent_money']/fdg['num_transactions']\n",
    "purchase_frequency = sum(fdg['num_transactions'])/4319\n",
    "repeat_rate = round(fdg[fdg.num_transactions > 1].shape[0]/fdg.shape[0],2)\n",
    "churn_rate = round(1-repeat_rate,2)"
   ]
  },
  {
   "cell_type": "code",
   "execution_count": null,
   "id": "b2b5e9cb",
   "metadata": {},
   "outputs": [
    {
     "ename": "",
     "evalue": "",
     "output_type": "error",
     "traceback": [
      "\u001b[1;31mFailed to start the Kernel. \n",
      "\u001b[1;31mreturn _run_code(code, main_globals, None,\n",
      "\u001b[1;31m  File \"/Library/Developer/CommandLineTools/Library/Frameworks/Python3.framework/Versions/3.8/lib/python3.8/runpy.py\", line 86, in _run_code\n",
      "\u001b[1;31m    exec(code, run_globals)\n",
      "\u001b[1;31m  File \"/Library/Developer/CommandLineTools/Library/Frameworks/Python3.framework/Versions/3.8/lib/python3.8/site-packages/pip/__main__.py\", line 16, in <module>\n",
      "\u001b[1;31m    from pip._internal import main as _main  # isort:skip # noqa\n",
      "\u001b[1;31m  File \"/Library/Developer/CommandLineTools/Library/Frameworks/Python3.framework/Versions/3.8/lib/python3.8/site-packages/pip/_internal/__init__.py\", line 40, in <module>\n",
      "\u001b[1;31m    from pip._internal.cli.autocompletion import autocomplete\n",
      "\u001b[1;31m  File \"/Library/Developer/CommandLineTools/Library/Frameworks/Python3.framework/Versions/3.8/lib/python3.8/site-packages/pip/_internal/cli/autocompletion.py\", line 8, in <module>\n",
      "\u001b[1;31m    from pip._internal.cli.main_parser import create_main_parser\n",
      "\u001b[1;31m  File \"/Library/Developer/CommandLineTools/Library/Frameworks/Python3.framework/Versions/3.8/lib/python3.8/site-packages/pip/_internal/cli/main_parser.py\", line 11, in <module>\n",
      "\u001b[1;31m    from pip._internal.commands import (\n",
      "\u001b[1;31m  File \"/Library/Developer/CommandLineTools/Library/Frameworks/Python3.framework/Versions/3.8/lib/python3.8/site-packages/pip/_internal/commands/__init__.py\", line 6, in <module>\n",
      "\u001b[1;31m    from pip._internal.commands.completion import CompletionCommand\n",
      "\u001b[1;31m  File \"/Library/Developer/CommandLineTools/Library/Frameworks/Python3.framework/Versions/3.8/lib/python3.8/site-packages/pip/_internal/commands/completion.py\", line 6, in <module>\n",
      "\u001b[1;31m    from pip._internal.cli.base_command import Command\n",
      "\u001b[1;31m  File \"/Library/Developer/CommandLineTools/Library/Frameworks/Python3.framework/Versions/3.8/lib/python3.8/site-packages/pip/_internal/cli/base_command.py\", line 26, in <module>\n",
      "\u001b[1;31m    from pip._internal.index import PackageFinder\n",
      "\u001b[1;31mImportError: cannot import name 'PackageFinder' from 'pip._internal.index' (/Library/Developer/CommandLineTools/Library/Frameworks/Python3.framework/Versions/3.8/lib/python3.8/site-packages/pip/_internal/index/__init__.py). \n",
      "\u001b[1;31mView Jupyter <a href='command:jupyter.viewOutput'>log</a> for further details."
     ]
    }
   ],
   "source": [
    "fdg.reset_index()"
   ]
  },
  {
   "cell_type": "code",
   "execution_count": null,
   "id": "fb18f1bd",
   "metadata": {},
   "outputs": [
    {
     "ename": "",
     "evalue": "",
     "output_type": "error",
     "traceback": [
      "\u001b[1;31mFailed to start the Kernel. \n",
      "\u001b[1;31mreturn _run_code(code, main_globals, None,\n",
      "\u001b[1;31m  File \"/Library/Developer/CommandLineTools/Library/Frameworks/Python3.framework/Versions/3.8/lib/python3.8/runpy.py\", line 86, in _run_code\n",
      "\u001b[1;31m    exec(code, run_globals)\n",
      "\u001b[1;31m  File \"/Library/Developer/CommandLineTools/Library/Frameworks/Python3.framework/Versions/3.8/lib/python3.8/site-packages/pip/__main__.py\", line 16, in <module>\n",
      "\u001b[1;31m    from pip._internal import main as _main  # isort:skip # noqa\n",
      "\u001b[1;31m  File \"/Library/Developer/CommandLineTools/Library/Frameworks/Python3.framework/Versions/3.8/lib/python3.8/site-packages/pip/_internal/__init__.py\", line 40, in <module>\n",
      "\u001b[1;31m    from pip._internal.cli.autocompletion import autocomplete\n",
      "\u001b[1;31m  File \"/Library/Developer/CommandLineTools/Library/Frameworks/Python3.framework/Versions/3.8/lib/python3.8/site-packages/pip/_internal/cli/autocompletion.py\", line 8, in <module>\n",
      "\u001b[1;31m    from pip._internal.cli.main_parser import create_main_parser\n",
      "\u001b[1;31m  File \"/Library/Developer/CommandLineTools/Library/Frameworks/Python3.framework/Versions/3.8/lib/python3.8/site-packages/pip/_internal/cli/main_parser.py\", line 11, in <module>\n",
      "\u001b[1;31m    from pip._internal.commands import (\n",
      "\u001b[1;31m  File \"/Library/Developer/CommandLineTools/Library/Frameworks/Python3.framework/Versions/3.8/lib/python3.8/site-packages/pip/_internal/commands/__init__.py\", line 6, in <module>\n",
      "\u001b[1;31m    from pip._internal.commands.completion import CompletionCommand\n",
      "\u001b[1;31m  File \"/Library/Developer/CommandLineTools/Library/Frameworks/Python3.framework/Versions/3.8/lib/python3.8/site-packages/pip/_internal/commands/completion.py\", line 6, in <module>\n",
      "\u001b[1;31m    from pip._internal.cli.base_command import Command\n",
      "\u001b[1;31m  File \"/Library/Developer/CommandLineTools/Library/Frameworks/Python3.framework/Versions/3.8/lib/python3.8/site-packages/pip/_internal/cli/base_command.py\", line 26, in <module>\n",
      "\u001b[1;31m    from pip._internal.index import PackageFinder\n",
      "\u001b[1;31mImportError: cannot import name 'PackageFinder' from 'pip._internal.index' (/Library/Developer/CommandLineTools/Library/Frameworks/Python3.framework/Versions/3.8/lib/python3.8/site-packages/pip/_internal/index/__init__.py). \n",
      "\u001b[1;31mView Jupyter <a href='command:jupyter.viewOutput'>log</a> for further details."
     ]
    }
   ],
   "source": [
    "fdg['profit_margin'] = fdg['spent_money']*0.05\n",
    "fdg['CLV'] = (fdg['avg_order_value']*purchase_frequency)/churn_rate\n",
    "fdg.reset_index(inplace = True)\n",
    "fdg['spent_money', 'avg_order_value','profit_margin'] = fdg.spent_money.apply(lambda x : \"{:,}\".format(x))\n",
    "data.dropna(inplace=True)\n",
    "data[\"InvoiceDate\"] = pd.to_datetime(data[\"InvoiceDate\"])\n",
    "data[\"InvoiceDate\"].max()\n",
    "today_date = dt.datetime(2011, 12, 11)\n",
    "data[\"TotalPrice\"] = data[\"Price\"] * data[\"Quantity\"]\n",
    "\n",
    "\n",
    "\n"
   ]
  },
  {
   "cell_type": "code",
   "execution_count": null,
   "id": "b124db6b",
   "metadata": {},
   "outputs": [
    {
     "ename": "",
     "evalue": "",
     "output_type": "error",
     "traceback": [
      "\u001b[1;31mFailed to start the Kernel. \n",
      "\u001b[1;31mreturn _run_code(code, main_globals, None,\n",
      "\u001b[1;31m  File \"/Library/Developer/CommandLineTools/Library/Frameworks/Python3.framework/Versions/3.8/lib/python3.8/runpy.py\", line 86, in _run_code\n",
      "\u001b[1;31m    exec(code, run_globals)\n",
      "\u001b[1;31m  File \"/Library/Developer/CommandLineTools/Library/Frameworks/Python3.framework/Versions/3.8/lib/python3.8/site-packages/pip/__main__.py\", line 16, in <module>\n",
      "\u001b[1;31m    from pip._internal import main as _main  # isort:skip # noqa\n",
      "\u001b[1;31m  File \"/Library/Developer/CommandLineTools/Library/Frameworks/Python3.framework/Versions/3.8/lib/python3.8/site-packages/pip/_internal/__init__.py\", line 40, in <module>\n",
      "\u001b[1;31m    from pip._internal.cli.autocompletion import autocomplete\n",
      "\u001b[1;31m  File \"/Library/Developer/CommandLineTools/Library/Frameworks/Python3.framework/Versions/3.8/lib/python3.8/site-packages/pip/_internal/cli/autocompletion.py\", line 8, in <module>\n",
      "\u001b[1;31m    from pip._internal.cli.main_parser import create_main_parser\n",
      "\u001b[1;31m  File \"/Library/Developer/CommandLineTools/Library/Frameworks/Python3.framework/Versions/3.8/lib/python3.8/site-packages/pip/_internal/cli/main_parser.py\", line 11, in <module>\n",
      "\u001b[1;31m    from pip._internal.commands import (\n",
      "\u001b[1;31m  File \"/Library/Developer/CommandLineTools/Library/Frameworks/Python3.framework/Versions/3.8/lib/python3.8/site-packages/pip/_internal/commands/__init__.py\", line 6, in <module>\n",
      "\u001b[1;31m    from pip._internal.commands.completion import CompletionCommand\n",
      "\u001b[1;31m  File \"/Library/Developer/CommandLineTools/Library/Frameworks/Python3.framework/Versions/3.8/lib/python3.8/site-packages/pip/_internal/commands/completion.py\", line 6, in <module>\n",
      "\u001b[1;31m    from pip._internal.cli.base_command import Command\n",
      "\u001b[1;31m  File \"/Library/Developer/CommandLineTools/Library/Frameworks/Python3.framework/Versions/3.8/lib/python3.8/site-packages/pip/_internal/cli/base_command.py\", line 26, in <module>\n",
      "\u001b[1;31m    from pip._internal.index import PackageFinder\n",
      "\u001b[1;31mImportError: cannot import name 'PackageFinder' from 'pip._internal.index' (/Library/Developer/CommandLineTools/Library/Frameworks/Python3.framework/Versions/3.8/lib/python3.8/site-packages/pip/_internal/index/__init__.py). \n",
      "\u001b[1;31mView Jupyter <a href='command:jupyter.viewOutput'>log</a> for further details."
     ]
    }
   ],
   "source": [
    "#np.log(fdg.CLV).describe()\n",
    "purchase_frequency,repeat_rate,churn_rate\n"
   ]
  },
  {
   "cell_type": "code",
   "execution_count": null,
   "id": "7e1227e3",
   "metadata": {},
   "outputs": [
    {
     "ename": "",
     "evalue": "",
     "output_type": "error",
     "traceback": [
      "\u001b[1;31mFailed to start the Kernel. \n",
      "\u001b[1;31mreturn _run_code(code, main_globals, None,\n",
      "\u001b[1;31m  File \"/Library/Developer/CommandLineTools/Library/Frameworks/Python3.framework/Versions/3.8/lib/python3.8/runpy.py\", line 86, in _run_code\n",
      "\u001b[1;31m    exec(code, run_globals)\n",
      "\u001b[1;31m  File \"/Library/Developer/CommandLineTools/Library/Frameworks/Python3.framework/Versions/3.8/lib/python3.8/site-packages/pip/__main__.py\", line 16, in <module>\n",
      "\u001b[1;31m    from pip._internal import main as _main  # isort:skip # noqa\n",
      "\u001b[1;31m  File \"/Library/Developer/CommandLineTools/Library/Frameworks/Python3.framework/Versions/3.8/lib/python3.8/site-packages/pip/_internal/__init__.py\", line 40, in <module>\n",
      "\u001b[1;31m    from pip._internal.cli.autocompletion import autocomplete\n",
      "\u001b[1;31m  File \"/Library/Developer/CommandLineTools/Library/Frameworks/Python3.framework/Versions/3.8/lib/python3.8/site-packages/pip/_internal/cli/autocompletion.py\", line 8, in <module>\n",
      "\u001b[1;31m    from pip._internal.cli.main_parser import create_main_parser\n",
      "\u001b[1;31m  File \"/Library/Developer/CommandLineTools/Library/Frameworks/Python3.framework/Versions/3.8/lib/python3.8/site-packages/pip/_internal/cli/main_parser.py\", line 11, in <module>\n",
      "\u001b[1;31m    from pip._internal.commands import (\n",
      "\u001b[1;31m  File \"/Library/Developer/CommandLineTools/Library/Frameworks/Python3.framework/Versions/3.8/lib/python3.8/site-packages/pip/_internal/commands/__init__.py\", line 6, in <module>\n",
      "\u001b[1;31m    from pip._internal.commands.completion import CompletionCommand\n",
      "\u001b[1;31m  File \"/Library/Developer/CommandLineTools/Library/Frameworks/Python3.framework/Versions/3.8/lib/python3.8/site-packages/pip/_internal/commands/completion.py\", line 6, in <module>\n",
      "\u001b[1;31m    from pip._internal.cli.base_command import Command\n",
      "\u001b[1;31m  File \"/Library/Developer/CommandLineTools/Library/Frameworks/Python3.framework/Versions/3.8/lib/python3.8/site-packages/pip/_internal/cli/base_command.py\", line 26, in <module>\n",
      "\u001b[1;31m    from pip._internal.index import PackageFinder\n",
      "\u001b[1;31mImportError: cannot import name 'PackageFinder' from 'pip._internal.index' (/Library/Developer/CommandLineTools/Library/Frameworks/Python3.framework/Versions/3.8/lib/python3.8/site-packages/pip/_internal/index/__init__.py). \n",
      "\u001b[1;31mView Jupyter <a href='command:jupyter.viewOutput'>log</a> for further details."
     ]
    }
   ],
   "source": [
    "fdg.head()"
   ]
  },
  {
   "cell_type": "code",
   "execution_count": null,
   "id": "32ef8cee",
   "metadata": {},
   "outputs": [
    {
     "ename": "",
     "evalue": "",
     "output_type": "error",
     "traceback": [
      "\u001b[1;31mFailed to start the Kernel. \n",
      "\u001b[1;31mreturn _run_code(code, main_globals, None,\n",
      "\u001b[1;31m  File \"/Library/Developer/CommandLineTools/Library/Frameworks/Python3.framework/Versions/3.8/lib/python3.8/runpy.py\", line 86, in _run_code\n",
      "\u001b[1;31m    exec(code, run_globals)\n",
      "\u001b[1;31m  File \"/Library/Developer/CommandLineTools/Library/Frameworks/Python3.framework/Versions/3.8/lib/python3.8/site-packages/pip/__main__.py\", line 16, in <module>\n",
      "\u001b[1;31m    from pip._internal import main as _main  # isort:skip # noqa\n",
      "\u001b[1;31m  File \"/Library/Developer/CommandLineTools/Library/Frameworks/Python3.framework/Versions/3.8/lib/python3.8/site-packages/pip/_internal/__init__.py\", line 40, in <module>\n",
      "\u001b[1;31m    from pip._internal.cli.autocompletion import autocomplete\n",
      "\u001b[1;31m  File \"/Library/Developer/CommandLineTools/Library/Frameworks/Python3.framework/Versions/3.8/lib/python3.8/site-packages/pip/_internal/cli/autocompletion.py\", line 8, in <module>\n",
      "\u001b[1;31m    from pip._internal.cli.main_parser import create_main_parser\n",
      "\u001b[1;31m  File \"/Library/Developer/CommandLineTools/Library/Frameworks/Python3.framework/Versions/3.8/lib/python3.8/site-packages/pip/_internal/cli/main_parser.py\", line 11, in <module>\n",
      "\u001b[1;31m    from pip._internal.commands import (\n",
      "\u001b[1;31m  File \"/Library/Developer/CommandLineTools/Library/Frameworks/Python3.framework/Versions/3.8/lib/python3.8/site-packages/pip/_internal/commands/__init__.py\", line 6, in <module>\n",
      "\u001b[1;31m    from pip._internal.commands.completion import CompletionCommand\n",
      "\u001b[1;31m  File \"/Library/Developer/CommandLineTools/Library/Frameworks/Python3.framework/Versions/3.8/lib/python3.8/site-packages/pip/_internal/commands/completion.py\", line 6, in <module>\n",
      "\u001b[1;31m    from pip._internal.cli.base_command import Command\n",
      "\u001b[1;31m  File \"/Library/Developer/CommandLineTools/Library/Frameworks/Python3.framework/Versions/3.8/lib/python3.8/site-packages/pip/_internal/cli/base_command.py\", line 26, in <module>\n",
      "\u001b[1;31m    from pip._internal.index import PackageFinder\n",
      "\u001b[1;31mImportError: cannot import name 'PackageFinder' from 'pip._internal.index' (/Library/Developer/CommandLineTools/Library/Frameworks/Python3.framework/Versions/3.8/lib/python3.8/site-packages/pip/_internal/index/__init__.py). \n",
      "\u001b[1;31mView Jupyter <a href='command:jupyter.viewOutput'>log</a> for further details."
     ]
    }
   ],
   "source": [
    "rfm = data.groupby(\"Customer ID\").agg({\"InvoiceDate\": lambda InvıiceDate: (today_date- InvıiceDate.max()).days,\n",
    "                                       \"Invoice\": lambda Invoice: Invoice.nunique(),\n",
    "                                       \"TotalPrice\": lambda TotalPrice: TotalPrice.sum()})\n",
    "rfm.columns = [\"recency\",\"frequency\",\"monetary\"]\n",
    "rfm = rfm[rfm[\"monetary\"] > 0]\n",
    "rfm.describe().T"
   ]
  },
  {
   "cell_type": "code",
   "execution_count": null,
   "id": "f7c0b396",
   "metadata": {},
   "outputs": [
    {
     "ename": "",
     "evalue": "",
     "output_type": "error",
     "traceback": [
      "\u001b[1;31mFailed to start the Kernel. \n",
      "\u001b[1;31mreturn _run_code(code, main_globals, None,\n",
      "\u001b[1;31m  File \"/Library/Developer/CommandLineTools/Library/Frameworks/Python3.framework/Versions/3.8/lib/python3.8/runpy.py\", line 86, in _run_code\n",
      "\u001b[1;31m    exec(code, run_globals)\n",
      "\u001b[1;31m  File \"/Library/Developer/CommandLineTools/Library/Frameworks/Python3.framework/Versions/3.8/lib/python3.8/site-packages/pip/__main__.py\", line 16, in <module>\n",
      "\u001b[1;31m    from pip._internal import main as _main  # isort:skip # noqa\n",
      "\u001b[1;31m  File \"/Library/Developer/CommandLineTools/Library/Frameworks/Python3.framework/Versions/3.8/lib/python3.8/site-packages/pip/_internal/__init__.py\", line 40, in <module>\n",
      "\u001b[1;31m    from pip._internal.cli.autocompletion import autocomplete\n",
      "\u001b[1;31m  File \"/Library/Developer/CommandLineTools/Library/Frameworks/Python3.framework/Versions/3.8/lib/python3.8/site-packages/pip/_internal/cli/autocompletion.py\", line 8, in <module>\n",
      "\u001b[1;31m    from pip._internal.cli.main_parser import create_main_parser\n",
      "\u001b[1;31m  File \"/Library/Developer/CommandLineTools/Library/Frameworks/Python3.framework/Versions/3.8/lib/python3.8/site-packages/pip/_internal/cli/main_parser.py\", line 11, in <module>\n",
      "\u001b[1;31m    from pip._internal.commands import (\n",
      "\u001b[1;31m  File \"/Library/Developer/CommandLineTools/Library/Frameworks/Python3.framework/Versions/3.8/lib/python3.8/site-packages/pip/_internal/commands/__init__.py\", line 6, in <module>\n",
      "\u001b[1;31m    from pip._internal.commands.completion import CompletionCommand\n",
      "\u001b[1;31m  File \"/Library/Developer/CommandLineTools/Library/Frameworks/Python3.framework/Versions/3.8/lib/python3.8/site-packages/pip/_internal/commands/completion.py\", line 6, in <module>\n",
      "\u001b[1;31m    from pip._internal.cli.base_command import Command\n",
      "\u001b[1;31m  File \"/Library/Developer/CommandLineTools/Library/Frameworks/Python3.framework/Versions/3.8/lib/python3.8/site-packages/pip/_internal/cli/base_command.py\", line 26, in <module>\n",
      "\u001b[1;31m    from pip._internal.index import PackageFinder\n",
      "\u001b[1;31mImportError: cannot import name 'PackageFinder' from 'pip._internal.index' (/Library/Developer/CommandLineTools/Library/Frameworks/Python3.framework/Versions/3.8/lib/python3.8/site-packages/pip/_internal/index/__init__.py). \n",
      "\u001b[1;31mView Jupyter <a href='command:jupyter.viewOutput'>log</a> for further details."
     ]
    }
   ],
   "source": [
    "rfm[\"recency_score\"] = pd.qcut(rfm['recency'], 5, labels=[5, 4, 3, 2, 1])\n",
    "rfm[\"frequency_score\"] = pd.qcut(rfm[\"frequency\"].rank(method=\"first\"), 5, labels=[1, 2, 3, 4, 5])\n",
    "rfm[\"monetary_score\"] = pd.qcut(rfm[\"monetary\"], 5, labels=[1, 2, 3, 4, 5])\n",
    "rfm[\"RFM_SCORE\"] = (rfm[\"recency_score\"].astype(str) + rfm[\"frequency_score\"].astype(str))"
   ]
  },
  {
   "cell_type": "code",
   "execution_count": null,
   "id": "b4df6715",
   "metadata": {},
   "outputs": [
    {
     "ename": "",
     "evalue": "",
     "output_type": "error",
     "traceback": [
      "\u001b[1;31mFailed to start the Kernel. \n",
      "\u001b[1;31mreturn _run_code(code, main_globals, None,\n",
      "\u001b[1;31m  File \"/Library/Developer/CommandLineTools/Library/Frameworks/Python3.framework/Versions/3.8/lib/python3.8/runpy.py\", line 86, in _run_code\n",
      "\u001b[1;31m    exec(code, run_globals)\n",
      "\u001b[1;31m  File \"/Library/Developer/CommandLineTools/Library/Frameworks/Python3.framework/Versions/3.8/lib/python3.8/site-packages/pip/__main__.py\", line 16, in <module>\n",
      "\u001b[1;31m    from pip._internal import main as _main  # isort:skip # noqa\n",
      "\u001b[1;31m  File \"/Library/Developer/CommandLineTools/Library/Frameworks/Python3.framework/Versions/3.8/lib/python3.8/site-packages/pip/_internal/__init__.py\", line 40, in <module>\n",
      "\u001b[1;31m    from pip._internal.cli.autocompletion import autocomplete\n",
      "\u001b[1;31m  File \"/Library/Developer/CommandLineTools/Library/Frameworks/Python3.framework/Versions/3.8/lib/python3.8/site-packages/pip/_internal/cli/autocompletion.py\", line 8, in <module>\n",
      "\u001b[1;31m    from pip._internal.cli.main_parser import create_main_parser\n",
      "\u001b[1;31m  File \"/Library/Developer/CommandLineTools/Library/Frameworks/Python3.framework/Versions/3.8/lib/python3.8/site-packages/pip/_internal/cli/main_parser.py\", line 11, in <module>\n",
      "\u001b[1;31m    from pip._internal.commands import (\n",
      "\u001b[1;31m  File \"/Library/Developer/CommandLineTools/Library/Frameworks/Python3.framework/Versions/3.8/lib/python3.8/site-packages/pip/_internal/commands/__init__.py\", line 6, in <module>\n",
      "\u001b[1;31m    from pip._internal.commands.completion import CompletionCommand\n",
      "\u001b[1;31m  File \"/Library/Developer/CommandLineTools/Library/Frameworks/Python3.framework/Versions/3.8/lib/python3.8/site-packages/pip/_internal/commands/completion.py\", line 6, in <module>\n",
      "\u001b[1;31m    from pip._internal.cli.base_command import Command\n",
      "\u001b[1;31m  File \"/Library/Developer/CommandLineTools/Library/Frameworks/Python3.framework/Versions/3.8/lib/python3.8/site-packages/pip/_internal/cli/base_command.py\", line 26, in <module>\n",
      "\u001b[1;31m    from pip._internal.index import PackageFinder\n",
      "\u001b[1;31mImportError: cannot import name 'PackageFinder' from 'pip._internal.index' (/Library/Developer/CommandLineTools/Library/Frameworks/Python3.framework/Versions/3.8/lib/python3.8/site-packages/pip/_internal/index/__init__.py). \n",
      "\u001b[1;31mView Jupyter <a href='command:jupyter.viewOutput'>log</a> for further details."
     ]
    }
   ],
   "source": [
    "seg_map = {\n",
    "    r'[1-2][1-2]': 'HIBERNATING',\n",
    "    r'[1-2][3-4]': 'AT RISK',\n",
    "    r'[1-2]5': 'CANT LOSE',\n",
    "    r'3[1-2]': 'ABOUT TO SLEEP',\n",
    "    r'33': 'NEED ATTENTION',\n",
    "    r'[3-4][4-5]': 'LOYAL CUSTOMER',\n",
    "    r'41': 'PROMISING',\n",
    "    r'51': 'NEW CUSTOMERS',\n",
    "    r'[4-5][2-3]': 'POTENTIAL LOYALIST',\n",
    "    r'5[4-5]': 'CHAMPIONS'\n",
    "}\n",
    "rfm['segment'] = rfm['RFM_SCORE'].replace(seg_map, regex=True)\n",
    "rfm.head(10)"
   ]
  },
  {
   "cell_type": "code",
   "execution_count": null,
   "id": "2a4fba68",
   "metadata": {},
   "outputs": [
    {
     "ename": "",
     "evalue": "",
     "output_type": "error",
     "traceback": [
      "\u001b[1;31mFailed to start the Kernel. \n",
      "\u001b[1;31mreturn _run_code(code, main_globals, None,\n",
      "\u001b[1;31m  File \"/Library/Developer/CommandLineTools/Library/Frameworks/Python3.framework/Versions/3.8/lib/python3.8/runpy.py\", line 86, in _run_code\n",
      "\u001b[1;31m    exec(code, run_globals)\n",
      "\u001b[1;31m  File \"/Library/Developer/CommandLineTools/Library/Frameworks/Python3.framework/Versions/3.8/lib/python3.8/site-packages/pip/__main__.py\", line 16, in <module>\n",
      "\u001b[1;31m    from pip._internal import main as _main  # isort:skip # noqa\n",
      "\u001b[1;31m  File \"/Library/Developer/CommandLineTools/Library/Frameworks/Python3.framework/Versions/3.8/lib/python3.8/site-packages/pip/_internal/__init__.py\", line 40, in <module>\n",
      "\u001b[1;31m    from pip._internal.cli.autocompletion import autocomplete\n",
      "\u001b[1;31m  File \"/Library/Developer/CommandLineTools/Library/Frameworks/Python3.framework/Versions/3.8/lib/python3.8/site-packages/pip/_internal/cli/autocompletion.py\", line 8, in <module>\n",
      "\u001b[1;31m    from pip._internal.cli.main_parser import create_main_parser\n",
      "\u001b[1;31m  File \"/Library/Developer/CommandLineTools/Library/Frameworks/Python3.framework/Versions/3.8/lib/python3.8/site-packages/pip/_internal/cli/main_parser.py\", line 11, in <module>\n",
      "\u001b[1;31m    from pip._internal.commands import (\n",
      "\u001b[1;31m  File \"/Library/Developer/CommandLineTools/Library/Frameworks/Python3.framework/Versions/3.8/lib/python3.8/site-packages/pip/_internal/commands/__init__.py\", line 6, in <module>\n",
      "\u001b[1;31m    from pip._internal.commands.completion import CompletionCommand\n",
      "\u001b[1;31m  File \"/Library/Developer/CommandLineTools/Library/Frameworks/Python3.framework/Versions/3.8/lib/python3.8/site-packages/pip/_internal/commands/completion.py\", line 6, in <module>\n",
      "\u001b[1;31m    from pip._internal.cli.base_command import Command\n",
      "\u001b[1;31m  File \"/Library/Developer/CommandLineTools/Library/Frameworks/Python3.framework/Versions/3.8/lib/python3.8/site-packages/pip/_internal/cli/base_command.py\", line 26, in <module>\n",
      "\u001b[1;31m    from pip._internal.index import PackageFinder\n",
      "\u001b[1;31mImportError: cannot import name 'PackageFinder' from 'pip._internal.index' (/Library/Developer/CommandLineTools/Library/Frameworks/Python3.framework/Versions/3.8/lib/python3.8/site-packages/pip/_internal/index/__init__.py). \n",
      "\u001b[1;31mView Jupyter <a href='command:jupyter.viewOutput'>log</a> for further details."
     ]
    }
   ],
   "source": [
    "rfm[[\"segment\", \"recency\", \"frequency\", \"monetary\"]].groupby(\"segment\").agg([\"mean\", \"count\"])"
   ]
  },
  {
   "cell_type": "code",
   "execution_count": null,
   "id": "4310db4a",
   "metadata": {},
   "outputs": [
    {
     "ename": "",
     "evalue": "",
     "output_type": "error",
     "traceback": [
      "\u001b[1;31mFailed to start the Kernel. \n",
      "\u001b[1;31mreturn _run_code(code, main_globals, None,\n",
      "\u001b[1;31m  File \"/Library/Developer/CommandLineTools/Library/Frameworks/Python3.framework/Versions/3.8/lib/python3.8/runpy.py\", line 86, in _run_code\n",
      "\u001b[1;31m    exec(code, run_globals)\n",
      "\u001b[1;31m  File \"/Library/Developer/CommandLineTools/Library/Frameworks/Python3.framework/Versions/3.8/lib/python3.8/site-packages/pip/__main__.py\", line 16, in <module>\n",
      "\u001b[1;31m    from pip._internal import main as _main  # isort:skip # noqa\n",
      "\u001b[1;31m  File \"/Library/Developer/CommandLineTools/Library/Frameworks/Python3.framework/Versions/3.8/lib/python3.8/site-packages/pip/_internal/__init__.py\", line 40, in <module>\n",
      "\u001b[1;31m    from pip._internal.cli.autocompletion import autocomplete\n",
      "\u001b[1;31m  File \"/Library/Developer/CommandLineTools/Library/Frameworks/Python3.framework/Versions/3.8/lib/python3.8/site-packages/pip/_internal/cli/autocompletion.py\", line 8, in <module>\n",
      "\u001b[1;31m    from pip._internal.cli.main_parser import create_main_parser\n",
      "\u001b[1;31m  File \"/Library/Developer/CommandLineTools/Library/Frameworks/Python3.framework/Versions/3.8/lib/python3.8/site-packages/pip/_internal/cli/main_parser.py\", line 11, in <module>\n",
      "\u001b[1;31m    from pip._internal.commands import (\n",
      "\u001b[1;31m  File \"/Library/Developer/CommandLineTools/Library/Frameworks/Python3.framework/Versions/3.8/lib/python3.8/site-packages/pip/_internal/commands/__init__.py\", line 6, in <module>\n",
      "\u001b[1;31m    from pip._internal.commands.completion import CompletionCommand\n",
      "\u001b[1;31m  File \"/Library/Developer/CommandLineTools/Library/Frameworks/Python3.framework/Versions/3.8/lib/python3.8/site-packages/pip/_internal/commands/completion.py\", line 6, in <module>\n",
      "\u001b[1;31m    from pip._internal.cli.base_command import Command\n",
      "\u001b[1;31m  File \"/Library/Developer/CommandLineTools/Library/Frameworks/Python3.framework/Versions/3.8/lib/python3.8/site-packages/pip/_internal/cli/base_command.py\", line 26, in <module>\n",
      "\u001b[1;31m    from pip._internal.index import PackageFinder\n",
      "\u001b[1;31mImportError: cannot import name 'PackageFinder' from 'pip._internal.index' (/Library/Developer/CommandLineTools/Library/Frameworks/Python3.framework/Versions/3.8/lib/python3.8/site-packages/pip/_internal/index/__init__.py). \n",
      "\u001b[1;31mView Jupyter <a href='command:jupyter.viewOutput'>log</a> for further details."
     ]
    }
   ],
   "source": [
    "#!pip install pyecharts"
   ]
  },
  {
   "cell_type": "code",
   "execution_count": null,
   "id": "c1face97",
   "metadata": {},
   "outputs": [
    {
     "ename": "",
     "evalue": "",
     "output_type": "error",
     "traceback": [
      "\u001b[1;31mFailed to start the Kernel. \n",
      "\u001b[1;31mreturn _run_code(code, main_globals, None,\n",
      "\u001b[1;31m  File \"/Library/Developer/CommandLineTools/Library/Frameworks/Python3.framework/Versions/3.8/lib/python3.8/runpy.py\", line 86, in _run_code\n",
      "\u001b[1;31m    exec(code, run_globals)\n",
      "\u001b[1;31m  File \"/Library/Developer/CommandLineTools/Library/Frameworks/Python3.framework/Versions/3.8/lib/python3.8/site-packages/pip/__main__.py\", line 16, in <module>\n",
      "\u001b[1;31m    from pip._internal import main as _main  # isort:skip # noqa\n",
      "\u001b[1;31m  File \"/Library/Developer/CommandLineTools/Library/Frameworks/Python3.framework/Versions/3.8/lib/python3.8/site-packages/pip/_internal/__init__.py\", line 40, in <module>\n",
      "\u001b[1;31m    from pip._internal.cli.autocompletion import autocomplete\n",
      "\u001b[1;31m  File \"/Library/Developer/CommandLineTools/Library/Frameworks/Python3.framework/Versions/3.8/lib/python3.8/site-packages/pip/_internal/cli/autocompletion.py\", line 8, in <module>\n",
      "\u001b[1;31m    from pip._internal.cli.main_parser import create_main_parser\n",
      "\u001b[1;31m  File \"/Library/Developer/CommandLineTools/Library/Frameworks/Python3.framework/Versions/3.8/lib/python3.8/site-packages/pip/_internal/cli/main_parser.py\", line 11, in <module>\n",
      "\u001b[1;31m    from pip._internal.commands import (\n",
      "\u001b[1;31m  File \"/Library/Developer/CommandLineTools/Library/Frameworks/Python3.framework/Versions/3.8/lib/python3.8/site-packages/pip/_internal/commands/__init__.py\", line 6, in <module>\n",
      "\u001b[1;31m    from pip._internal.commands.completion import CompletionCommand\n",
      "\u001b[1;31m  File \"/Library/Developer/CommandLineTools/Library/Frameworks/Python3.framework/Versions/3.8/lib/python3.8/site-packages/pip/_internal/commands/completion.py\", line 6, in <module>\n",
      "\u001b[1;31m    from pip._internal.cli.base_command import Command\n",
      "\u001b[1;31m  File \"/Library/Developer/CommandLineTools/Library/Frameworks/Python3.framework/Versions/3.8/lib/python3.8/site-packages/pip/_internal/cli/base_command.py\", line 26, in <module>\n",
      "\u001b[1;31m    from pip._internal.index import PackageFinder\n",
      "\u001b[1;31mImportError: cannot import name 'PackageFinder' from 'pip._internal.index' (/Library/Developer/CommandLineTools/Library/Frameworks/Python3.framework/Versions/3.8/lib/python3.8/site-packages/pip/_internal/index/__init__.py). \n",
      "\u001b[1;31mView Jupyter <a href='command:jupyter.viewOutput'>log</a> for further details."
     ]
    }
   ],
   "source": [
    "from pyecharts.charts import Pie\n",
    "from pyecharts import options as opts\n",
    "sgm= rfm[\"segment\"].value_counts()\n",
    "c = sgm.index.tolist()\n",
    "d = sgm.tolist()\n",
    "color_series = ['#5b9aa0','#667292','#8d9db6','#daebe8','#d6d4e0',\n",
    " '#e4d1d1','#b0aac0','#f9d5e5','#b9b0b0','#622569']\n",
    "rosechart = Pie(init_opts=opts.InitOpts(width='1350px', height='750px'))\n",
    "rosechart.set_colors(color_series)\n",
    "rosechart.add(\"\", [list(z) for z in zip(c, d)],\n",
    "        radius=[\"20%\", \"95%\"], \n",
    "        center=[\"30%\", \"60%\"],\n",
    "        rosetype=\"area\")\n",
    "rosechart.set_global_opts(title_opts=opts.TitleOpts(title='CLV',subtitle=\"Customer Segmentation\"),\n",
    "                     legend_opts=opts.LegendOpts(is_show=False),\n",
    "                     toolbox_opts=opts.ToolboxOpts())\n",
    "rosechart.set_series_opts(label_opts=opts.LabelOpts(is_show=True, position=\"inside\", font_size=12,formatter=\"{b}:{c}\", font_style=\"italic\",font_weight=\"bold\", font_family=\"Century\"),)\n",
    "rosechart.render_notebook()\n",
    "        \n",
    "\n"
   ]
  },
  {
   "cell_type": "code",
   "execution_count": null,
   "id": "a08fa1e5",
   "metadata": {},
   "outputs": [
    {
     "ename": "",
     "evalue": "",
     "output_type": "error",
     "traceback": [
      "\u001b[1;31mFailed to start the Kernel. \n",
      "\u001b[1;31mreturn _run_code(code, main_globals, None,\n",
      "\u001b[1;31m  File \"/Library/Developer/CommandLineTools/Library/Frameworks/Python3.framework/Versions/3.8/lib/python3.8/runpy.py\", line 86, in _run_code\n",
      "\u001b[1;31m    exec(code, run_globals)\n",
      "\u001b[1;31m  File \"/Library/Developer/CommandLineTools/Library/Frameworks/Python3.framework/Versions/3.8/lib/python3.8/site-packages/pip/__main__.py\", line 16, in <module>\n",
      "\u001b[1;31m    from pip._internal import main as _main  # isort:skip # noqa\n",
      "\u001b[1;31m  File \"/Library/Developer/CommandLineTools/Library/Frameworks/Python3.framework/Versions/3.8/lib/python3.8/site-packages/pip/_internal/__init__.py\", line 40, in <module>\n",
      "\u001b[1;31m    from pip._internal.cli.autocompletion import autocomplete\n",
      "\u001b[1;31m  File \"/Library/Developer/CommandLineTools/Library/Frameworks/Python3.framework/Versions/3.8/lib/python3.8/site-packages/pip/_internal/cli/autocompletion.py\", line 8, in <module>\n",
      "\u001b[1;31m    from pip._internal.cli.main_parser import create_main_parser\n",
      "\u001b[1;31m  File \"/Library/Developer/CommandLineTools/Library/Frameworks/Python3.framework/Versions/3.8/lib/python3.8/site-packages/pip/_internal/cli/main_parser.py\", line 11, in <module>\n",
      "\u001b[1;31m    from pip._internal.commands import (\n",
      "\u001b[1;31m  File \"/Library/Developer/CommandLineTools/Library/Frameworks/Python3.framework/Versions/3.8/lib/python3.8/site-packages/pip/_internal/commands/__init__.py\", line 6, in <module>\n",
      "\u001b[1;31m    from pip._internal.commands.completion import CompletionCommand\n",
      "\u001b[1;31m  File \"/Library/Developer/CommandLineTools/Library/Frameworks/Python3.framework/Versions/3.8/lib/python3.8/site-packages/pip/_internal/commands/completion.py\", line 6, in <module>\n",
      "\u001b[1;31m    from pip._internal.cli.base_command import Command\n",
      "\u001b[1;31m  File \"/Library/Developer/CommandLineTools/Library/Frameworks/Python3.framework/Versions/3.8/lib/python3.8/site-packages/pip/_internal/cli/base_command.py\", line 26, in <module>\n",
      "\u001b[1;31m    from pip._internal.index import PackageFinder\n",
      "\u001b[1;31mImportError: cannot import name 'PackageFinder' from 'pip._internal.index' (/Library/Developer/CommandLineTools/Library/Frameworks/Python3.framework/Versions/3.8/lib/python3.8/site-packages/pip/_internal/index/__init__.py). \n",
      "\u001b[1;31mView Jupyter <a href='command:jupyter.viewOutput'>log</a> for further details."
     ]
    }
   ],
   "source": [
    "df_treemap = rfm.groupby('segment').agg('count').reset_index()\n",
    "fig, ax = plt.subplots(1, figsize = (20,10))\n",
    "squarify.plot(sizes=df_treemap['RFM_SCORE'], \n",
    "              label=df_treemap['segment'], \n",
    "              color=['#5b9aa0','#667292','#8d9db6','#daebe8','#d6d4e0',\n",
    "                     '#e4d1d1','#b0aac0','#f9d5e5','#b9b0b0','#602969'])\n",
    "plt.axis('off')\n",
    "plt.show()"
   ]
  },
  {
   "cell_type": "markdown",
   "id": "a4ec0df5",
   "metadata": {},
   "source": [
    "# Model"
   ]
  },
  {
   "cell_type": "code",
   "execution_count": null,
   "id": "86ee1eca",
   "metadata": {},
   "outputs": [
    {
     "ename": "",
     "evalue": "",
     "output_type": "error",
     "traceback": [
      "\u001b[1;31mFailed to start the Kernel. \n",
      "\u001b[1;31mreturn _run_code(code, main_globals, None,\n",
      "\u001b[1;31m  File \"/Library/Developer/CommandLineTools/Library/Frameworks/Python3.framework/Versions/3.8/lib/python3.8/runpy.py\", line 86, in _run_code\n",
      "\u001b[1;31m    exec(code, run_globals)\n",
      "\u001b[1;31m  File \"/Library/Developer/CommandLineTools/Library/Frameworks/Python3.framework/Versions/3.8/lib/python3.8/site-packages/pip/__main__.py\", line 16, in <module>\n",
      "\u001b[1;31m    from pip._internal import main as _main  # isort:skip # noqa\n",
      "\u001b[1;31m  File \"/Library/Developer/CommandLineTools/Library/Frameworks/Python3.framework/Versions/3.8/lib/python3.8/site-packages/pip/_internal/__init__.py\", line 40, in <module>\n",
      "\u001b[1;31m    from pip._internal.cli.autocompletion import autocomplete\n",
      "\u001b[1;31m  File \"/Library/Developer/CommandLineTools/Library/Frameworks/Python3.framework/Versions/3.8/lib/python3.8/site-packages/pip/_internal/cli/autocompletion.py\", line 8, in <module>\n",
      "\u001b[1;31m    from pip._internal.cli.main_parser import create_main_parser\n",
      "\u001b[1;31m  File \"/Library/Developer/CommandLineTools/Library/Frameworks/Python3.framework/Versions/3.8/lib/python3.8/site-packages/pip/_internal/cli/main_parser.py\", line 11, in <module>\n",
      "\u001b[1;31m    from pip._internal.commands import (\n",
      "\u001b[1;31m  File \"/Library/Developer/CommandLineTools/Library/Frameworks/Python3.framework/Versions/3.8/lib/python3.8/site-packages/pip/_internal/commands/__init__.py\", line 6, in <module>\n",
      "\u001b[1;31m    from pip._internal.commands.completion import CompletionCommand\n",
      "\u001b[1;31m  File \"/Library/Developer/CommandLineTools/Library/Frameworks/Python3.framework/Versions/3.8/lib/python3.8/site-packages/pip/_internal/commands/completion.py\", line 6, in <module>\n",
      "\u001b[1;31m    from pip._internal.cli.base_command import Command\n",
      "\u001b[1;31m  File \"/Library/Developer/CommandLineTools/Library/Frameworks/Python3.framework/Versions/3.8/lib/python3.8/site-packages/pip/_internal/cli/base_command.py\", line 26, in <module>\n",
      "\u001b[1;31m    from pip._internal.index import PackageFinder\n",
      "\u001b[1;31mImportError: cannot import name 'PackageFinder' from 'pip._internal.index' (/Library/Developer/CommandLineTools/Library/Frameworks/Python3.framework/Versions/3.8/lib/python3.8/site-packages/pip/_internal/index/__init__.py). \n",
      "\u001b[1;31mView Jupyter <a href='command:jupyter.viewOutput'>log</a> for further details."
     ]
    }
   ],
   "source": [
    "#BG/NBD Model \n",
    "cltv_df = data.groupby('Customer ID').agg({'InvoiceDate': [lambda date: (date.max() - date.min()).days,\n",
    "                                                           lambda date: (today_date - date.min()).days],\n",
    "                                           'Invoice':      lambda num: num.nunique(),\n",
    "                                           'TotalPrice':   lambda TotalPrice: TotalPrice.sum()})\n",
    "\n",
    "cltv_df.columns = cltv_df.columns.droplevel(0)\n",
    "cltv_df.columns = ['recency', 'T', 'frequency', 'monetary']\n",
    "cltv_df[\"monetary\"] = cltv_df[\"monetary\"] / cltv_df[\"frequency\"]\n",
    "cltv_df = cltv_df[cltv_df[\"monetary\"] > 0]\n",
    "cltv_df[\"recency\"] = cltv_df[\"recency\"] / 7\n",
    "cltv_df[\"T\"] = cltv_df[\"T\"] / 7\n",
    "cltv_df = cltv_df[(cltv_df['frequency'] > 1)]"
   ]
  },
  {
   "cell_type": "code",
   "execution_count": null,
   "id": "d535aef9",
   "metadata": {},
   "outputs": [
    {
     "ename": "",
     "evalue": "",
     "output_type": "error",
     "traceback": [
      "\u001b[1;31mFailed to start the Kernel. \n",
      "\u001b[1;31mreturn _run_code(code, main_globals, None,\n",
      "\u001b[1;31m  File \"/Library/Developer/CommandLineTools/Library/Frameworks/Python3.framework/Versions/3.8/lib/python3.8/runpy.py\", line 86, in _run_code\n",
      "\u001b[1;31m    exec(code, run_globals)\n",
      "\u001b[1;31m  File \"/Library/Developer/CommandLineTools/Library/Frameworks/Python3.framework/Versions/3.8/lib/python3.8/site-packages/pip/__main__.py\", line 16, in <module>\n",
      "\u001b[1;31m    from pip._internal import main as _main  # isort:skip # noqa\n",
      "\u001b[1;31m  File \"/Library/Developer/CommandLineTools/Library/Frameworks/Python3.framework/Versions/3.8/lib/python3.8/site-packages/pip/_internal/__init__.py\", line 40, in <module>\n",
      "\u001b[1;31m    from pip._internal.cli.autocompletion import autocomplete\n",
      "\u001b[1;31m  File \"/Library/Developer/CommandLineTools/Library/Frameworks/Python3.framework/Versions/3.8/lib/python3.8/site-packages/pip/_internal/cli/autocompletion.py\", line 8, in <module>\n",
      "\u001b[1;31m    from pip._internal.cli.main_parser import create_main_parser\n",
      "\u001b[1;31m  File \"/Library/Developer/CommandLineTools/Library/Frameworks/Python3.framework/Versions/3.8/lib/python3.8/site-packages/pip/_internal/cli/main_parser.py\", line 11, in <module>\n",
      "\u001b[1;31m    from pip._internal.commands import (\n",
      "\u001b[1;31m  File \"/Library/Developer/CommandLineTools/Library/Frameworks/Python3.framework/Versions/3.8/lib/python3.8/site-packages/pip/_internal/commands/__init__.py\", line 6, in <module>\n",
      "\u001b[1;31m    from pip._internal.commands.completion import CompletionCommand\n",
      "\u001b[1;31m  File \"/Library/Developer/CommandLineTools/Library/Frameworks/Python3.framework/Versions/3.8/lib/python3.8/site-packages/pip/_internal/commands/completion.py\", line 6, in <module>\n",
      "\u001b[1;31m    from pip._internal.cli.base_command import Command\n",
      "\u001b[1;31m  File \"/Library/Developer/CommandLineTools/Library/Frameworks/Python3.framework/Versions/3.8/lib/python3.8/site-packages/pip/_internal/cli/base_command.py\", line 26, in <module>\n",
      "\u001b[1;31m    from pip._internal.index import PackageFinder\n",
      "\u001b[1;31mImportError: cannot import name 'PackageFinder' from 'pip._internal.index' (/Library/Developer/CommandLineTools/Library/Frameworks/Python3.framework/Versions/3.8/lib/python3.8/site-packages/pip/_internal/index/__init__.py). \n",
      "\u001b[1;31mView Jupyter <a href='command:jupyter.viewOutput'>log</a> for further details."
     ]
    }
   ],
   "source": [
    "data[\"InvoiceDate\"] = pd.to_datetime(data[\"InvoiceDate\"])"
   ]
  },
  {
   "cell_type": "code",
   "execution_count": null,
   "id": "e8b2a288",
   "metadata": {},
   "outputs": [
    {
     "ename": "",
     "evalue": "",
     "output_type": "error",
     "traceback": [
      "\u001b[1;31mFailed to start the Kernel. \n",
      "\u001b[1;31mreturn _run_code(code, main_globals, None,\n",
      "\u001b[1;31m  File \"/Library/Developer/CommandLineTools/Library/Frameworks/Python3.framework/Versions/3.8/lib/python3.8/runpy.py\", line 86, in _run_code\n",
      "\u001b[1;31m    exec(code, run_globals)\n",
      "\u001b[1;31m  File \"/Library/Developer/CommandLineTools/Library/Frameworks/Python3.framework/Versions/3.8/lib/python3.8/site-packages/pip/__main__.py\", line 16, in <module>\n",
      "\u001b[1;31m    from pip._internal import main as _main  # isort:skip # noqa\n",
      "\u001b[1;31m  File \"/Library/Developer/CommandLineTools/Library/Frameworks/Python3.framework/Versions/3.8/lib/python3.8/site-packages/pip/_internal/__init__.py\", line 40, in <module>\n",
      "\u001b[1;31m    from pip._internal.cli.autocompletion import autocomplete\n",
      "\u001b[1;31m  File \"/Library/Developer/CommandLineTools/Library/Frameworks/Python3.framework/Versions/3.8/lib/python3.8/site-packages/pip/_internal/cli/autocompletion.py\", line 8, in <module>\n",
      "\u001b[1;31m    from pip._internal.cli.main_parser import create_main_parser\n",
      "\u001b[1;31m  File \"/Library/Developer/CommandLineTools/Library/Frameworks/Python3.framework/Versions/3.8/lib/python3.8/site-packages/pip/_internal/cli/main_parser.py\", line 11, in <module>\n",
      "\u001b[1;31m    from pip._internal.commands import (\n",
      "\u001b[1;31m  File \"/Library/Developer/CommandLineTools/Library/Frameworks/Python3.framework/Versions/3.8/lib/python3.8/site-packages/pip/_internal/commands/__init__.py\", line 6, in <module>\n",
      "\u001b[1;31m    from pip._internal.commands.completion import CompletionCommand\n",
      "\u001b[1;31m  File \"/Library/Developer/CommandLineTools/Library/Frameworks/Python3.framework/Versions/3.8/lib/python3.8/site-packages/pip/_internal/commands/completion.py\", line 6, in <module>\n",
      "\u001b[1;31m    from pip._internal.cli.base_command import Command\n",
      "\u001b[1;31m  File \"/Library/Developer/CommandLineTools/Library/Frameworks/Python3.framework/Versions/3.8/lib/python3.8/site-packages/pip/_internal/cli/base_command.py\", line 26, in <module>\n",
      "\u001b[1;31m    from pip._internal.index import PackageFinder\n",
      "\u001b[1;31mImportError: cannot import name 'PackageFinder' from 'pip._internal.index' (/Library/Developer/CommandLineTools/Library/Frameworks/Python3.framework/Versions/3.8/lib/python3.8/site-packages/pip/_internal/index/__init__.py). \n",
      "\u001b[1;31mView Jupyter <a href='command:jupyter.viewOutput'>log</a> for further details."
     ]
    }
   ],
   "source": [
    "cltv_df.head()"
   ]
  },
  {
   "cell_type": "code",
   "execution_count": null,
   "id": "dbdad6c3",
   "metadata": {},
   "outputs": [
    {
     "ename": "",
     "evalue": "",
     "output_type": "error",
     "traceback": [
      "\u001b[1;31mFailed to start the Kernel. \n",
      "\u001b[1;31mreturn _run_code(code, main_globals, None,\n",
      "\u001b[1;31m  File \"/Library/Developer/CommandLineTools/Library/Frameworks/Python3.framework/Versions/3.8/lib/python3.8/runpy.py\", line 86, in _run_code\n",
      "\u001b[1;31m    exec(code, run_globals)\n",
      "\u001b[1;31m  File \"/Library/Developer/CommandLineTools/Library/Frameworks/Python3.framework/Versions/3.8/lib/python3.8/site-packages/pip/__main__.py\", line 16, in <module>\n",
      "\u001b[1;31m    from pip._internal import main as _main  # isort:skip # noqa\n",
      "\u001b[1;31m  File \"/Library/Developer/CommandLineTools/Library/Frameworks/Python3.framework/Versions/3.8/lib/python3.8/site-packages/pip/_internal/__init__.py\", line 40, in <module>\n",
      "\u001b[1;31m    from pip._internal.cli.autocompletion import autocomplete\n",
      "\u001b[1;31m  File \"/Library/Developer/CommandLineTools/Library/Frameworks/Python3.framework/Versions/3.8/lib/python3.8/site-packages/pip/_internal/cli/autocompletion.py\", line 8, in <module>\n",
      "\u001b[1;31m    from pip._internal.cli.main_parser import create_main_parser\n",
      "\u001b[1;31m  File \"/Library/Developer/CommandLineTools/Library/Frameworks/Python3.framework/Versions/3.8/lib/python3.8/site-packages/pip/_internal/cli/main_parser.py\", line 11, in <module>\n",
      "\u001b[1;31m    from pip._internal.commands import (\n",
      "\u001b[1;31m  File \"/Library/Developer/CommandLineTools/Library/Frameworks/Python3.framework/Versions/3.8/lib/python3.8/site-packages/pip/_internal/commands/__init__.py\", line 6, in <module>\n",
      "\u001b[1;31m    from pip._internal.commands.completion import CompletionCommand\n",
      "\u001b[1;31m  File \"/Library/Developer/CommandLineTools/Library/Frameworks/Python3.framework/Versions/3.8/lib/python3.8/site-packages/pip/_internal/commands/completion.py\", line 6, in <module>\n",
      "\u001b[1;31m    from pip._internal.cli.base_command import Command\n",
      "\u001b[1;31m  File \"/Library/Developer/CommandLineTools/Library/Frameworks/Python3.framework/Versions/3.8/lib/python3.8/site-packages/pip/_internal/cli/base_command.py\", line 26, in <module>\n",
      "\u001b[1;31m    from pip._internal.index import PackageFinder\n",
      "\u001b[1;31mImportError: cannot import name 'PackageFinder' from 'pip._internal.index' (/Library/Developer/CommandLineTools/Library/Frameworks/Python3.framework/Versions/3.8/lib/python3.8/site-packages/pip/_internal/index/__init__.py). \n",
      "\u001b[1;31mView Jupyter <a href='command:jupyter.viewOutput'>log</a> for further details."
     ]
    }
   ],
   "source": [
    "bgf = BetaGeoFitter(penalizer_coef=0.0)\n",
    "bgf.fit(cltv_df['frequency'],\n",
    "        cltv_df['recency'],\n",
    "        cltv_df['T'])"
   ]
  },
  {
   "cell_type": "code",
   "execution_count": null,
   "id": "8c7d72d9",
   "metadata": {},
   "outputs": [
    {
     "ename": "",
     "evalue": "",
     "output_type": "error",
     "traceback": [
      "\u001b[1;31mFailed to start the Kernel. \n",
      "\u001b[1;31mreturn _run_code(code, main_globals, None,\n",
      "\u001b[1;31m  File \"/Library/Developer/CommandLineTools/Library/Frameworks/Python3.framework/Versions/3.8/lib/python3.8/runpy.py\", line 86, in _run_code\n",
      "\u001b[1;31m    exec(code, run_globals)\n",
      "\u001b[1;31m  File \"/Library/Developer/CommandLineTools/Library/Frameworks/Python3.framework/Versions/3.8/lib/python3.8/site-packages/pip/__main__.py\", line 16, in <module>\n",
      "\u001b[1;31m    from pip._internal import main as _main  # isort:skip # noqa\n",
      "\u001b[1;31m  File \"/Library/Developer/CommandLineTools/Library/Frameworks/Python3.framework/Versions/3.8/lib/python3.8/site-packages/pip/_internal/__init__.py\", line 40, in <module>\n",
      "\u001b[1;31m    from pip._internal.cli.autocompletion import autocomplete\n",
      "\u001b[1;31m  File \"/Library/Developer/CommandLineTools/Library/Frameworks/Python3.framework/Versions/3.8/lib/python3.8/site-packages/pip/_internal/cli/autocompletion.py\", line 8, in <module>\n",
      "\u001b[1;31m    from pip._internal.cli.main_parser import create_main_parser\n",
      "\u001b[1;31m  File \"/Library/Developer/CommandLineTools/Library/Frameworks/Python3.framework/Versions/3.8/lib/python3.8/site-packages/pip/_internal/cli/main_parser.py\", line 11, in <module>\n",
      "\u001b[1;31m    from pip._internal.commands import (\n",
      "\u001b[1;31m  File \"/Library/Developer/CommandLineTools/Library/Frameworks/Python3.framework/Versions/3.8/lib/python3.8/site-packages/pip/_internal/commands/__init__.py\", line 6, in <module>\n",
      "\u001b[1;31m    from pip._internal.commands.completion import CompletionCommand\n",
      "\u001b[1;31m  File \"/Library/Developer/CommandLineTools/Library/Frameworks/Python3.framework/Versions/3.8/lib/python3.8/site-packages/pip/_internal/commands/completion.py\", line 6, in <module>\n",
      "\u001b[1;31m    from pip._internal.cli.base_command import Command\n",
      "\u001b[1;31m  File \"/Library/Developer/CommandLineTools/Library/Frameworks/Python3.framework/Versions/3.8/lib/python3.8/site-packages/pip/_internal/cli/base_command.py\", line 26, in <module>\n",
      "\u001b[1;31m    from pip._internal.index import PackageFinder\n",
      "\u001b[1;31mImportError: cannot import name 'PackageFinder' from 'pip._internal.index' (/Library/Developer/CommandLineTools/Library/Frameworks/Python3.framework/Versions/3.8/lib/python3.8/site-packages/pip/_internal/index/__init__.py). \n",
      "\u001b[1;31mView Jupyter <a href='command:jupyter.viewOutput'>log</a> for further details."
     ]
    }
   ],
   "source": [
    "fig = plt.figure(figsize=(12,8))\n",
    "plot_frequency_recency_matrix(bgf)"
   ]
  },
  {
   "cell_type": "code",
   "execution_count": null,
   "id": "662abcd1",
   "metadata": {},
   "outputs": [
    {
     "ename": "",
     "evalue": "",
     "output_type": "error",
     "traceback": [
      "\u001b[1;31mFailed to start the Kernel. \n",
      "\u001b[1;31mreturn _run_code(code, main_globals, None,\n",
      "\u001b[1;31m  File \"/Library/Developer/CommandLineTools/Library/Frameworks/Python3.framework/Versions/3.8/lib/python3.8/runpy.py\", line 86, in _run_code\n",
      "\u001b[1;31m    exec(code, run_globals)\n",
      "\u001b[1;31m  File \"/Library/Developer/CommandLineTools/Library/Frameworks/Python3.framework/Versions/3.8/lib/python3.8/site-packages/pip/__main__.py\", line 16, in <module>\n",
      "\u001b[1;31m    from pip._internal import main as _main  # isort:skip # noqa\n",
      "\u001b[1;31m  File \"/Library/Developer/CommandLineTools/Library/Frameworks/Python3.framework/Versions/3.8/lib/python3.8/site-packages/pip/_internal/__init__.py\", line 40, in <module>\n",
      "\u001b[1;31m    from pip._internal.cli.autocompletion import autocomplete\n",
      "\u001b[1;31m  File \"/Library/Developer/CommandLineTools/Library/Frameworks/Python3.framework/Versions/3.8/lib/python3.8/site-packages/pip/_internal/cli/autocompletion.py\", line 8, in <module>\n",
      "\u001b[1;31m    from pip._internal.cli.main_parser import create_main_parser\n",
      "\u001b[1;31m  File \"/Library/Developer/CommandLineTools/Library/Frameworks/Python3.framework/Versions/3.8/lib/python3.8/site-packages/pip/_internal/cli/main_parser.py\", line 11, in <module>\n",
      "\u001b[1;31m    from pip._internal.commands import (\n",
      "\u001b[1;31m  File \"/Library/Developer/CommandLineTools/Library/Frameworks/Python3.framework/Versions/3.8/lib/python3.8/site-packages/pip/_internal/commands/__init__.py\", line 6, in <module>\n",
      "\u001b[1;31m    from pip._internal.commands.completion import CompletionCommand\n",
      "\u001b[1;31m  File \"/Library/Developer/CommandLineTools/Library/Frameworks/Python3.framework/Versions/3.8/lib/python3.8/site-packages/pip/_internal/commands/completion.py\", line 6, in <module>\n",
      "\u001b[1;31m    from pip._internal.cli.base_command import Command\n",
      "\u001b[1;31m  File \"/Library/Developer/CommandLineTools/Library/Frameworks/Python3.framework/Versions/3.8/lib/python3.8/site-packages/pip/_internal/cli/base_command.py\", line 26, in <module>\n",
      "\u001b[1;31m    from pip._internal.index import PackageFinder\n",
      "\u001b[1;31mImportError: cannot import name 'PackageFinder' from 'pip._internal.index' (/Library/Developer/CommandLineTools/Library/Frameworks/Python3.framework/Versions/3.8/lib/python3.8/site-packages/pip/_internal/index/__init__.py). \n",
      "\u001b[1;31mView Jupyter <a href='command:jupyter.viewOutput'>log</a> for further details."
     ]
    }
   ],
   "source": [
    "fig = plt.figure(figsize=(12,8))\n",
    "plot_probability_alive_matrix(bgf)"
   ]
  },
  {
   "cell_type": "code",
   "execution_count": null,
   "id": "891db346",
   "metadata": {},
   "outputs": [
    {
     "ename": "",
     "evalue": "",
     "output_type": "error",
     "traceback": [
      "\u001b[1;31mFailed to start the Kernel. \n",
      "\u001b[1;31mreturn _run_code(code, main_globals, None,\n",
      "\u001b[1;31m  File \"/Library/Developer/CommandLineTools/Library/Frameworks/Python3.framework/Versions/3.8/lib/python3.8/runpy.py\", line 86, in _run_code\n",
      "\u001b[1;31m    exec(code, run_globals)\n",
      "\u001b[1;31m  File \"/Library/Developer/CommandLineTools/Library/Frameworks/Python3.framework/Versions/3.8/lib/python3.8/site-packages/pip/__main__.py\", line 16, in <module>\n",
      "\u001b[1;31m    from pip._internal import main as _main  # isort:skip # noqa\n",
      "\u001b[1;31m  File \"/Library/Developer/CommandLineTools/Library/Frameworks/Python3.framework/Versions/3.8/lib/python3.8/site-packages/pip/_internal/__init__.py\", line 40, in <module>\n",
      "\u001b[1;31m    from pip._internal.cli.autocompletion import autocomplete\n",
      "\u001b[1;31m  File \"/Library/Developer/CommandLineTools/Library/Frameworks/Python3.framework/Versions/3.8/lib/python3.8/site-packages/pip/_internal/cli/autocompletion.py\", line 8, in <module>\n",
      "\u001b[1;31m    from pip._internal.cli.main_parser import create_main_parser\n",
      "\u001b[1;31m  File \"/Library/Developer/CommandLineTools/Library/Frameworks/Python3.framework/Versions/3.8/lib/python3.8/site-packages/pip/_internal/cli/main_parser.py\", line 11, in <module>\n",
      "\u001b[1;31m    from pip._internal.commands import (\n",
      "\u001b[1;31m  File \"/Library/Developer/CommandLineTools/Library/Frameworks/Python3.framework/Versions/3.8/lib/python3.8/site-packages/pip/_internal/commands/__init__.py\", line 6, in <module>\n",
      "\u001b[1;31m    from pip._internal.commands.completion import CompletionCommand\n",
      "\u001b[1;31m  File \"/Library/Developer/CommandLineTools/Library/Frameworks/Python3.framework/Versions/3.8/lib/python3.8/site-packages/pip/_internal/commands/completion.py\", line 6, in <module>\n",
      "\u001b[1;31m    from pip._internal.cli.base_command import Command\n",
      "\u001b[1;31m  File \"/Library/Developer/CommandLineTools/Library/Frameworks/Python3.framework/Versions/3.8/lib/python3.8/site-packages/pip/_internal/cli/base_command.py\", line 26, in <module>\n",
      "\u001b[1;31m    from pip._internal.index import PackageFinder\n",
      "\u001b[1;31mImportError: cannot import name 'PackageFinder' from 'pip._internal.index' (/Library/Developer/CommandLineTools/Library/Frameworks/Python3.framework/Versions/3.8/lib/python3.8/site-packages/pip/_internal/index/__init__.py). \n",
      "\u001b[1;31mView Jupyter <a href='command:jupyter.viewOutput'>log</a> for further details."
     ]
    }
   ],
   "source": [
    "summary_cal_holdout = calibration_and_holdout_data(fd, 'Customer ID', 'InvoiceDate',\n",
    "                                        calibration_period_end='2010-11-09',\n",
    "                                        observation_period_end='2011-01-01' )   \n",
    "print(summary_cal_holdout.head())"
   ]
  },
  {
   "cell_type": "code",
   "execution_count": null,
   "id": "a6953862",
   "metadata": {},
   "outputs": [
    {
     "ename": "",
     "evalue": "",
     "output_type": "error",
     "traceback": [
      "\u001b[1;31mFailed to start the Kernel. \n",
      "\u001b[1;31mreturn _run_code(code, main_globals, None,\n",
      "\u001b[1;31m  File \"/Library/Developer/CommandLineTools/Library/Frameworks/Python3.framework/Versions/3.8/lib/python3.8/runpy.py\", line 86, in _run_code\n",
      "\u001b[1;31m    exec(code, run_globals)\n",
      "\u001b[1;31m  File \"/Library/Developer/CommandLineTools/Library/Frameworks/Python3.framework/Versions/3.8/lib/python3.8/site-packages/pip/__main__.py\", line 16, in <module>\n",
      "\u001b[1;31m    from pip._internal import main as _main  # isort:skip # noqa\n",
      "\u001b[1;31m  File \"/Library/Developer/CommandLineTools/Library/Frameworks/Python3.framework/Versions/3.8/lib/python3.8/site-packages/pip/_internal/__init__.py\", line 40, in <module>\n",
      "\u001b[1;31m    from pip._internal.cli.autocompletion import autocomplete\n",
      "\u001b[1;31m  File \"/Library/Developer/CommandLineTools/Library/Frameworks/Python3.framework/Versions/3.8/lib/python3.8/site-packages/pip/_internal/cli/autocompletion.py\", line 8, in <module>\n",
      "\u001b[1;31m    from pip._internal.cli.main_parser import create_main_parser\n",
      "\u001b[1;31m  File \"/Library/Developer/CommandLineTools/Library/Frameworks/Python3.framework/Versions/3.8/lib/python3.8/site-packages/pip/_internal/cli/main_parser.py\", line 11, in <module>\n",
      "\u001b[1;31m    from pip._internal.commands import (\n",
      "\u001b[1;31m  File \"/Library/Developer/CommandLineTools/Library/Frameworks/Python3.framework/Versions/3.8/lib/python3.8/site-packages/pip/_internal/commands/__init__.py\", line 6, in <module>\n",
      "\u001b[1;31m    from pip._internal.commands.completion import CompletionCommand\n",
      "\u001b[1;31m  File \"/Library/Developer/CommandLineTools/Library/Frameworks/Python3.framework/Versions/3.8/lib/python3.8/site-packages/pip/_internal/commands/completion.py\", line 6, in <module>\n",
      "\u001b[1;31m    from pip._internal.cli.base_command import Command\n",
      "\u001b[1;31m  File \"/Library/Developer/CommandLineTools/Library/Frameworks/Python3.framework/Versions/3.8/lib/python3.8/site-packages/pip/_internal/cli/base_command.py\", line 26, in <module>\n",
      "\u001b[1;31m    from pip._internal.index import PackageFinder\n",
      "\u001b[1;31mImportError: cannot import name 'PackageFinder' from 'pip._internal.index' (/Library/Developer/CommandLineTools/Library/Frameworks/Python3.framework/Versions/3.8/lib/python3.8/site-packages/pip/_internal/index/__init__.py). \n",
      "\u001b[1;31mView Jupyter <a href='command:jupyter.viewOutput'>log</a> for further details."
     ]
    }
   ],
   "source": [
    "bgf.fit(summary_cal_holdout['frequency_cal'], summary_cal_holdout['recency_cal'], summary_cal_holdout['T_cal'])\n",
    "plot_calibration_purchases_vs_holdout_purchases(bgf, summary_cal_holdout)"
   ]
  },
  {
   "cell_type": "code",
   "execution_count": null,
   "id": "79180167",
   "metadata": {},
   "outputs": [
    {
     "ename": "",
     "evalue": "",
     "output_type": "error",
     "traceback": [
      "\u001b[1;31mFailed to start the Kernel. \n",
      "\u001b[1;31mreturn _run_code(code, main_globals, None,\n",
      "\u001b[1;31m  File \"/Library/Developer/CommandLineTools/Library/Frameworks/Python3.framework/Versions/3.8/lib/python3.8/runpy.py\", line 86, in _run_code\n",
      "\u001b[1;31m    exec(code, run_globals)\n",
      "\u001b[1;31m  File \"/Library/Developer/CommandLineTools/Library/Frameworks/Python3.framework/Versions/3.8/lib/python3.8/site-packages/pip/__main__.py\", line 16, in <module>\n",
      "\u001b[1;31m    from pip._internal import main as _main  # isort:skip # noqa\n",
      "\u001b[1;31m  File \"/Library/Developer/CommandLineTools/Library/Frameworks/Python3.framework/Versions/3.8/lib/python3.8/site-packages/pip/_internal/__init__.py\", line 40, in <module>\n",
      "\u001b[1;31m    from pip._internal.cli.autocompletion import autocomplete\n",
      "\u001b[1;31m  File \"/Library/Developer/CommandLineTools/Library/Frameworks/Python3.framework/Versions/3.8/lib/python3.8/site-packages/pip/_internal/cli/autocompletion.py\", line 8, in <module>\n",
      "\u001b[1;31m    from pip._internal.cli.main_parser import create_main_parser\n",
      "\u001b[1;31m  File \"/Library/Developer/CommandLineTools/Library/Frameworks/Python3.framework/Versions/3.8/lib/python3.8/site-packages/pip/_internal/cli/main_parser.py\", line 11, in <module>\n",
      "\u001b[1;31m    from pip._internal.commands import (\n",
      "\u001b[1;31m  File \"/Library/Developer/CommandLineTools/Library/Frameworks/Python3.framework/Versions/3.8/lib/python3.8/site-packages/pip/_internal/commands/__init__.py\", line 6, in <module>\n",
      "\u001b[1;31m    from pip._internal.commands.completion import CompletionCommand\n",
      "\u001b[1;31m  File \"/Library/Developer/CommandLineTools/Library/Frameworks/Python3.framework/Versions/3.8/lib/python3.8/site-packages/pip/_internal/commands/completion.py\", line 6, in <module>\n",
      "\u001b[1;31m    from pip._internal.cli.base_command import Command\n",
      "\u001b[1;31m  File \"/Library/Developer/CommandLineTools/Library/Frameworks/Python3.framework/Versions/3.8/lib/python3.8/site-packages/pip/_internal/cli/base_command.py\", line 26, in <module>\n",
      "\u001b[1;31m    from pip._internal.index import PackageFinder\n",
      "\u001b[1;31mImportError: cannot import name 'PackageFinder' from 'pip._internal.index' (/Library/Developer/CommandLineTools/Library/Frameworks/Python3.framework/Versions/3.8/lib/python3.8/site-packages/pip/_internal/index/__init__.py). \n",
      "\u001b[1;31mView Jupyter <a href='command:jupyter.viewOutput'>log</a> for further details."
     ]
    }
   ],
   "source": [
    "cltv_df[\"expected_purc_1_week\"] = bgf.predict(1,cltv_df['frequency'],cltv_df['recency'],cltv_df['T'])\n",
    "cltv_df[\"expected_purc_1_month\"] = bgf.predict(4,cltv_df['frequency'],cltv_df['recency'],cltv_df['T'])\n",
    "cltv_df.sort_values(\"expected_purc_1_week\", ascending=False)\n",
    "cltv_df.sort_values(\"expected_purc_1_month\", ascending=False)"
   ]
  },
  {
   "cell_type": "markdown",
   "id": "6eb79c37",
   "metadata": {},
   "source": [
    "# Gamma model"
   ]
  },
  {
   "cell_type": "code",
   "execution_count": null,
   "id": "4b112fc9",
   "metadata": {},
   "outputs": [
    {
     "ename": "",
     "evalue": "",
     "output_type": "error",
     "traceback": [
      "\u001b[1;31mFailed to start the Kernel. \n",
      "\u001b[1;31mreturn _run_code(code, main_globals, None,\n",
      "\u001b[1;31m  File \"/Library/Developer/CommandLineTools/Library/Frameworks/Python3.framework/Versions/3.8/lib/python3.8/runpy.py\", line 86, in _run_code\n",
      "\u001b[1;31m    exec(code, run_globals)\n",
      "\u001b[1;31m  File \"/Library/Developer/CommandLineTools/Library/Frameworks/Python3.framework/Versions/3.8/lib/python3.8/site-packages/pip/__main__.py\", line 16, in <module>\n",
      "\u001b[1;31m    from pip._internal import main as _main  # isort:skip # noqa\n",
      "\u001b[1;31m  File \"/Library/Developer/CommandLineTools/Library/Frameworks/Python3.framework/Versions/3.8/lib/python3.8/site-packages/pip/_internal/__init__.py\", line 40, in <module>\n",
      "\u001b[1;31m    from pip._internal.cli.autocompletion import autocomplete\n",
      "\u001b[1;31m  File \"/Library/Developer/CommandLineTools/Library/Frameworks/Python3.framework/Versions/3.8/lib/python3.8/site-packages/pip/_internal/cli/autocompletion.py\", line 8, in <module>\n",
      "\u001b[1;31m    from pip._internal.cli.main_parser import create_main_parser\n",
      "\u001b[1;31m  File \"/Library/Developer/CommandLineTools/Library/Frameworks/Python3.framework/Versions/3.8/lib/python3.8/site-packages/pip/_internal/cli/main_parser.py\", line 11, in <module>\n",
      "\u001b[1;31m    from pip._internal.commands import (\n",
      "\u001b[1;31m  File \"/Library/Developer/CommandLineTools/Library/Frameworks/Python3.framework/Versions/3.8/lib/python3.8/site-packages/pip/_internal/commands/__init__.py\", line 6, in <module>\n",
      "\u001b[1;31m    from pip._internal.commands.completion import CompletionCommand\n",
      "\u001b[1;31m  File \"/Library/Developer/CommandLineTools/Library/Frameworks/Python3.framework/Versions/3.8/lib/python3.8/site-packages/pip/_internal/commands/completion.py\", line 6, in <module>\n",
      "\u001b[1;31m    from pip._internal.cli.base_command import Command\n",
      "\u001b[1;31m  File \"/Library/Developer/CommandLineTools/Library/Frameworks/Python3.framework/Versions/3.8/lib/python3.8/site-packages/pip/_internal/cli/base_command.py\", line 26, in <module>\n",
      "\u001b[1;31m    from pip._internal.index import PackageFinder\n",
      "\u001b[1;31mImportError: cannot import name 'PackageFinder' from 'pip._internal.index' (/Library/Developer/CommandLineTools/Library/Frameworks/Python3.framework/Versions/3.8/lib/python3.8/site-packages/pip/_internal/index/__init__.py). \n",
      "\u001b[1;31mView Jupyter <a href='command:jupyter.viewOutput'>log</a> for further details."
     ]
    }
   ],
   "source": [
    "ggf = GammaGammaFitter(penalizer_coef=0.1)\n",
    "ggf.fit(cltv_df['frequency'], cltv_df['monetary'])\n",
    "fd"
   ]
  },
  {
   "cell_type": "code",
   "execution_count": null,
   "id": "3a2679b7",
   "metadata": {},
   "outputs": [
    {
     "ename": "",
     "evalue": "",
     "output_type": "error",
     "traceback": [
      "\u001b[1;31mFailed to start the Kernel. \n",
      "\u001b[1;31mreturn _run_code(code, main_globals, None,\n",
      "\u001b[1;31m  File \"/Library/Developer/CommandLineTools/Library/Frameworks/Python3.framework/Versions/3.8/lib/python3.8/runpy.py\", line 86, in _run_code\n",
      "\u001b[1;31m    exec(code, run_globals)\n",
      "\u001b[1;31m  File \"/Library/Developer/CommandLineTools/Library/Frameworks/Python3.framework/Versions/3.8/lib/python3.8/site-packages/pip/__main__.py\", line 16, in <module>\n",
      "\u001b[1;31m    from pip._internal import main as _main  # isort:skip # noqa\n",
      "\u001b[1;31m  File \"/Library/Developer/CommandLineTools/Library/Frameworks/Python3.framework/Versions/3.8/lib/python3.8/site-packages/pip/_internal/__init__.py\", line 40, in <module>\n",
      "\u001b[1;31m    from pip._internal.cli.autocompletion import autocomplete\n",
      "\u001b[1;31m  File \"/Library/Developer/CommandLineTools/Library/Frameworks/Python3.framework/Versions/3.8/lib/python3.8/site-packages/pip/_internal/cli/autocompletion.py\", line 8, in <module>\n",
      "\u001b[1;31m    from pip._internal.cli.main_parser import create_main_parser\n",
      "\u001b[1;31m  File \"/Library/Developer/CommandLineTools/Library/Frameworks/Python3.framework/Versions/3.8/lib/python3.8/site-packages/pip/_internal/cli/main_parser.py\", line 11, in <module>\n",
      "\u001b[1;31m    from pip._internal.commands import (\n",
      "\u001b[1;31m  File \"/Library/Developer/CommandLineTools/Library/Frameworks/Python3.framework/Versions/3.8/lib/python3.8/site-packages/pip/_internal/commands/__init__.py\", line 6, in <module>\n",
      "\u001b[1;31m    from pip._internal.commands.completion import CompletionCommand\n",
      "\u001b[1;31m  File \"/Library/Developer/CommandLineTools/Library/Frameworks/Python3.framework/Versions/3.8/lib/python3.8/site-packages/pip/_internal/commands/completion.py\", line 6, in <module>\n",
      "\u001b[1;31m    from pip._internal.cli.base_command import Command\n",
      "\u001b[1;31m  File \"/Library/Developer/CommandLineTools/Library/Frameworks/Python3.framework/Versions/3.8/lib/python3.8/site-packages/pip/_internal/cli/base_command.py\", line 26, in <module>\n",
      "\u001b[1;31m    from pip._internal.index import PackageFinder\n",
      "\u001b[1;31mImportError: cannot import name 'PackageFinder' from 'pip._internal.index' (/Library/Developer/CommandLineTools/Library/Frameworks/Python3.framework/Versions/3.8/lib/python3.8/site-packages/pip/_internal/index/__init__.py). \n",
      "\u001b[1;31mView Jupyter <a href='command:jupyter.viewOutput'>log</a> for further details."
     ]
    }
   ],
   "source": [
    "from sklearn.metrics import mean_absolute_error\n",
    "from sklearn.preprocessing import KBinsDiscretizer\n",
    "from sklearn.metrics import confusion_matrix\n",
    "from sklearn.metrics import f1_score\n",
    "def evaluate_clv(actual, predicted, bins):\n",
    "    print(f\"Average absolute error: {mean_absolute_error(actual, predicted)}\")\n",
    "    #Evaluate numeric\n",
    "    plt.figure(figsize=(10, 7))\n",
    "    plt.scatter(predicted, actual)\n",
    "    plt.xlabel('Predicted')\n",
    "    plt.ylabel('Actual')\n",
    "    plt.title('Predicted vs Actual')\n",
    "    plt.show()\n",
    "    \n",
    "    #Evaluate Bins\n",
    "    est = KBinsDiscretizer(n_bins=bins, encode='ordinal', strategy='kmeans')\n",
    "    est.fit(np.array(actual).reshape(-1, 1))\n",
    "    actual_bin = est.transform(np.array(actual).reshape(-1, 1)).ravel()\n",
    "    predicted_bin = est.transform(np.array(predicted).reshape(-1, 1)).ravel()\n",
    "    \n",
    "    cm = confusion_matrix(actual_bin, predicted_bin, normalize='true')\n",
    "    df_cm = pd.DataFrame(cm, index = range(1, bins+1),\n",
    "                      columns = range(1, bins+1))\n",
    "    plt.figure(figsize = (20,10))\n",
    "    sns.heatmap(df_cm, annot=True)\n",
    "\n",
    "    # fix for mpl bug that cuts off top/bottom of seaborn viz\n",
    "    b, t = plt.ylim() # discover the values for bottom and top\n",
    "    b += 0.5 # Add 0.5 to the bottom\n",
    "    t -= 0.5 # Subtract 0.5 from the top\n",
    "    plt.ylim(b, t) # update the ylim(bottom, top) values\n",
    "    plt.show()\n",
    "    print(f'F1 score: {f1_score(actual_bin, predicted_bin, average=\"macro\")}')\n",
    "    print('Samples in each bin: \\n')\n",
    "    print(pd.Series(actual_bin).value_counts())\n",
    "\n"
   ]
  },
  {
   "cell_type": "code",
   "execution_count": null,
   "id": "8000ad36",
   "metadata": {},
   "outputs": [
    {
     "ename": "",
     "evalue": "",
     "output_type": "error",
     "traceback": [
      "\u001b[1;31mFailed to start the Kernel. \n",
      "\u001b[1;31mreturn _run_code(code, main_globals, None,\n",
      "\u001b[1;31m  File \"/Library/Developer/CommandLineTools/Library/Frameworks/Python3.framework/Versions/3.8/lib/python3.8/runpy.py\", line 86, in _run_code\n",
      "\u001b[1;31m    exec(code, run_globals)\n",
      "\u001b[1;31m  File \"/Library/Developer/CommandLineTools/Library/Frameworks/Python3.framework/Versions/3.8/lib/python3.8/site-packages/pip/__main__.py\", line 16, in <module>\n",
      "\u001b[1;31m    from pip._internal import main as _main  # isort:skip # noqa\n",
      "\u001b[1;31m  File \"/Library/Developer/CommandLineTools/Library/Frameworks/Python3.framework/Versions/3.8/lib/python3.8/site-packages/pip/_internal/__init__.py\", line 40, in <module>\n",
      "\u001b[1;31m    from pip._internal.cli.autocompletion import autocomplete\n",
      "\u001b[1;31m  File \"/Library/Developer/CommandLineTools/Library/Frameworks/Python3.framework/Versions/3.8/lib/python3.8/site-packages/pip/_internal/cli/autocompletion.py\", line 8, in <module>\n",
      "\u001b[1;31m    from pip._internal.cli.main_parser import create_main_parser\n",
      "\u001b[1;31m  File \"/Library/Developer/CommandLineTools/Library/Frameworks/Python3.framework/Versions/3.8/lib/python3.8/site-packages/pip/_internal/cli/main_parser.py\", line 11, in <module>\n",
      "\u001b[1;31m    from pip._internal.commands import (\n",
      "\u001b[1;31m  File \"/Library/Developer/CommandLineTools/Library/Frameworks/Python3.framework/Versions/3.8/lib/python3.8/site-packages/pip/_internal/commands/__init__.py\", line 6, in <module>\n",
      "\u001b[1;31m    from pip._internal.commands.completion import CompletionCommand\n",
      "\u001b[1;31m  File \"/Library/Developer/CommandLineTools/Library/Frameworks/Python3.framework/Versions/3.8/lib/python3.8/site-packages/pip/_internal/commands/completion.py\", line 6, in <module>\n",
      "\u001b[1;31m    from pip._internal.cli.base_command import Command\n",
      "\u001b[1;31m  File \"/Library/Developer/CommandLineTools/Library/Frameworks/Python3.framework/Versions/3.8/lib/python3.8/site-packages/pip/_internal/cli/base_command.py\", line 26, in <module>\n",
      "\u001b[1;31m    from pip._internal.index import PackageFinder\n",
      "\u001b[1;31mImportError: cannot import name 'PackageFinder' from 'pip._internal.index' (/Library/Developer/CommandLineTools/Library/Frameworks/Python3.framework/Versions/3.8/lib/python3.8/site-packages/pip/_internal/index/__init__.py). \n",
      "\u001b[1;31mView Jupyter <a href='command:jupyter.viewOutput'>log</a> for further details."
     ]
    }
   ],
   "source": [
    "summary_cal_holdout = calibration_and_holdout_data(fd, 'Customer ID', 'InvoiceDate',\n",
    "                                        calibration_period_end='2010-11-09',\n",
    "                                      observation_period_end='2011-01-01',\n",
    "                                                   monetary_value_col = 'TotalPurchase') \n",
    "summary_cal_holdout\n",
    "summary_cal_holdout = summary_cal_holdout[(summary_cal_holdout['monetary_value_cal']>0)]\n",
    "\n",
    "    \n",
    "\n",
    "\n",
    "ggf.fit(summary_cal_holdout['frequency_cal'],\n",
    "        summary_cal_holdout['monetary_value_cal'])\n",
    "monetary_pred = ggf.conditional_expected_average_profit(summary_cal_holdout['frequency_holdout'],\n",
    "                                        summary_cal_holdout['monetary_value_holdout'])\n",
    "evaluate_clv(summary_cal_holdout['monetary_value_holdout'], monetary_pred, bins=10)\n"
   ]
  },
  {
   "cell_type": "code",
   "execution_count": null,
   "id": "3ac13857",
   "metadata": {},
   "outputs": [
    {
     "ename": "",
     "evalue": "",
     "output_type": "error",
     "traceback": [
      "\u001b[1;31mFailed to start the Kernel. \n",
      "\u001b[1;31mreturn _run_code(code, main_globals, None,\n",
      "\u001b[1;31m  File \"/Library/Developer/CommandLineTools/Library/Frameworks/Python3.framework/Versions/3.8/lib/python3.8/runpy.py\", line 86, in _run_code\n",
      "\u001b[1;31m    exec(code, run_globals)\n",
      "\u001b[1;31m  File \"/Library/Developer/CommandLineTools/Library/Frameworks/Python3.framework/Versions/3.8/lib/python3.8/site-packages/pip/__main__.py\", line 16, in <module>\n",
      "\u001b[1;31m    from pip._internal import main as _main  # isort:skip # noqa\n",
      "\u001b[1;31m  File \"/Library/Developer/CommandLineTools/Library/Frameworks/Python3.framework/Versions/3.8/lib/python3.8/site-packages/pip/_internal/__init__.py\", line 40, in <module>\n",
      "\u001b[1;31m    from pip._internal.cli.autocompletion import autocomplete\n",
      "\u001b[1;31m  File \"/Library/Developer/CommandLineTools/Library/Frameworks/Python3.framework/Versions/3.8/lib/python3.8/site-packages/pip/_internal/cli/autocompletion.py\", line 8, in <module>\n",
      "\u001b[1;31m    from pip._internal.cli.main_parser import create_main_parser\n",
      "\u001b[1;31m  File \"/Library/Developer/CommandLineTools/Library/Frameworks/Python3.framework/Versions/3.8/lib/python3.8/site-packages/pip/_internal/cli/main_parser.py\", line 11, in <module>\n",
      "\u001b[1;31m    from pip._internal.commands import (\n",
      "\u001b[1;31m  File \"/Library/Developer/CommandLineTools/Library/Frameworks/Python3.framework/Versions/3.8/lib/python3.8/site-packages/pip/_internal/commands/__init__.py\", line 6, in <module>\n",
      "\u001b[1;31m    from pip._internal.commands.completion import CompletionCommand\n",
      "\u001b[1;31m  File \"/Library/Developer/CommandLineTools/Library/Frameworks/Python3.framework/Versions/3.8/lib/python3.8/site-packages/pip/_internal/commands/completion.py\", line 6, in <module>\n",
      "\u001b[1;31m    from pip._internal.cli.base_command import Command\n",
      "\u001b[1;31m  File \"/Library/Developer/CommandLineTools/Library/Frameworks/Python3.framework/Versions/3.8/lib/python3.8/site-packages/pip/_internal/cli/base_command.py\", line 26, in <module>\n",
      "\u001b[1;31m    from pip._internal.index import PackageFinder\n",
      "\u001b[1;31mImportError: cannot import name 'PackageFinder' from 'pip._internal.index' (/Library/Developer/CommandLineTools/Library/Frameworks/Python3.framework/Versions/3.8/lib/python3.8/site-packages/pip/_internal/index/__init__.py). \n",
      "\u001b[1;31mView Jupyter <a href='command:jupyter.viewOutput'>log</a> for further details."
     ]
    }
   ],
   "source": [
    "bgf = BetaGeoFitter(penalizer_coef=0.0)\n",
    "bgf.fit(summary_cal_holdout['frequency_cal'], summary_cal_holdout['recency_cal'], summary_cal_holdout['T_cal'])\n",
    "\n",
    "#Predict\n",
    "predicted_bgf = bgf.predict(30, #how many days to predict\n",
    "                        summary_cal_holdout['frequency_cal'], \n",
    "                        summary_cal_holdout['recency_cal'], \n",
    "                        summary_cal_holdout['T_cal'])\n",
    "evaluate_clv(summary_cal_holdout['frequency_holdout'], predicted_bgf, bins=10)\n",
    "\n",
    "\n"
   ]
  },
  {
   "cell_type": "code",
   "execution_count": null,
   "id": "20adbea8",
   "metadata": {},
   "outputs": [
    {
     "ename": "",
     "evalue": "",
     "output_type": "error",
     "traceback": [
      "\u001b[1;31mFailed to start the Kernel. \n",
      "\u001b[1;31mreturn _run_code(code, main_globals, None,\n",
      "\u001b[1;31m  File \"/Library/Developer/CommandLineTools/Library/Frameworks/Python3.framework/Versions/3.8/lib/python3.8/runpy.py\", line 86, in _run_code\n",
      "\u001b[1;31m    exec(code, run_globals)\n",
      "\u001b[1;31m  File \"/Library/Developer/CommandLineTools/Library/Frameworks/Python3.framework/Versions/3.8/lib/python3.8/site-packages/pip/__main__.py\", line 16, in <module>\n",
      "\u001b[1;31m    from pip._internal import main as _main  # isort:skip # noqa\n",
      "\u001b[1;31m  File \"/Library/Developer/CommandLineTools/Library/Frameworks/Python3.framework/Versions/3.8/lib/python3.8/site-packages/pip/_internal/__init__.py\", line 40, in <module>\n",
      "\u001b[1;31m    from pip._internal.cli.autocompletion import autocomplete\n",
      "\u001b[1;31m  File \"/Library/Developer/CommandLineTools/Library/Frameworks/Python3.framework/Versions/3.8/lib/python3.8/site-packages/pip/_internal/cli/autocompletion.py\", line 8, in <module>\n",
      "\u001b[1;31m    from pip._internal.cli.main_parser import create_main_parser\n",
      "\u001b[1;31m  File \"/Library/Developer/CommandLineTools/Library/Frameworks/Python3.framework/Versions/3.8/lib/python3.8/site-packages/pip/_internal/cli/main_parser.py\", line 11, in <module>\n",
      "\u001b[1;31m    from pip._internal.commands import (\n",
      "\u001b[1;31m  File \"/Library/Developer/CommandLineTools/Library/Frameworks/Python3.framework/Versions/3.8/lib/python3.8/site-packages/pip/_internal/commands/__init__.py\", line 6, in <module>\n",
      "\u001b[1;31m    from pip._internal.commands.completion import CompletionCommand\n",
      "\u001b[1;31m  File \"/Library/Developer/CommandLineTools/Library/Frameworks/Python3.framework/Versions/3.8/lib/python3.8/site-packages/pip/_internal/commands/completion.py\", line 6, in <module>\n",
      "\u001b[1;31m    from pip._internal.cli.base_command import Command\n",
      "\u001b[1;31m  File \"/Library/Developer/CommandLineTools/Library/Frameworks/Python3.framework/Versions/3.8/lib/python3.8/site-packages/pip/_internal/cli/base_command.py\", line 26, in <module>\n",
      "\u001b[1;31m    from pip._internal.index import PackageFinder\n",
      "\u001b[1;31mImportError: cannot import name 'PackageFinder' from 'pip._internal.index' (/Library/Developer/CommandLineTools/Library/Frameworks/Python3.framework/Versions/3.8/lib/python3.8/site-packages/pip/_internal/index/__init__.py). \n",
      "\u001b[1;31mView Jupyter <a href='command:jupyter.viewOutput'>log</a> for further details."
     ]
    }
   ],
   "source": [
    "cltv_df[\"expected_average_profit\"] = ggf.conditional_expected_average_profit(cltv_df['frequency'],cltv_df['monetary'])\n",
    "cltv_df.sort_values(\"expected_average_profit\", ascending=False)"
   ]
  },
  {
   "cell_type": "code",
   "execution_count": null,
   "id": "b74ba821",
   "metadata": {},
   "outputs": [
    {
     "ename": "",
     "evalue": "",
     "output_type": "error",
     "traceback": [
      "\u001b[1;31mFailed to start the Kernel. \n",
      "\u001b[1;31mreturn _run_code(code, main_globals, None,\n",
      "\u001b[1;31m  File \"/Library/Developer/CommandLineTools/Library/Frameworks/Python3.framework/Versions/3.8/lib/python3.8/runpy.py\", line 86, in _run_code\n",
      "\u001b[1;31m    exec(code, run_globals)\n",
      "\u001b[1;31m  File \"/Library/Developer/CommandLineTools/Library/Frameworks/Python3.framework/Versions/3.8/lib/python3.8/site-packages/pip/__main__.py\", line 16, in <module>\n",
      "\u001b[1;31m    from pip._internal import main as _main  # isort:skip # noqa\n",
      "\u001b[1;31m  File \"/Library/Developer/CommandLineTools/Library/Frameworks/Python3.framework/Versions/3.8/lib/python3.8/site-packages/pip/_internal/__init__.py\", line 40, in <module>\n",
      "\u001b[1;31m    from pip._internal.cli.autocompletion import autocomplete\n",
      "\u001b[1;31m  File \"/Library/Developer/CommandLineTools/Library/Frameworks/Python3.framework/Versions/3.8/lib/python3.8/site-packages/pip/_internal/cli/autocompletion.py\", line 8, in <module>\n",
      "\u001b[1;31m    from pip._internal.cli.main_parser import create_main_parser\n",
      "\u001b[1;31m  File \"/Library/Developer/CommandLineTools/Library/Frameworks/Python3.framework/Versions/3.8/lib/python3.8/site-packages/pip/_internal/cli/main_parser.py\", line 11, in <module>\n",
      "\u001b[1;31m    from pip._internal.commands import (\n",
      "\u001b[1;31m  File \"/Library/Developer/CommandLineTools/Library/Frameworks/Python3.framework/Versions/3.8/lib/python3.8/site-packages/pip/_internal/commands/__init__.py\", line 6, in <module>\n",
      "\u001b[1;31m    from pip._internal.commands.completion import CompletionCommand\n",
      "\u001b[1;31m  File \"/Library/Developer/CommandLineTools/Library/Frameworks/Python3.framework/Versions/3.8/lib/python3.8/site-packages/pip/_internal/commands/completion.py\", line 6, in <module>\n",
      "\u001b[1;31m    from pip._internal.cli.base_command import Command\n",
      "\u001b[1;31m  File \"/Library/Developer/CommandLineTools/Library/Frameworks/Python3.framework/Versions/3.8/lib/python3.8/site-packages/pip/_internal/cli/base_command.py\", line 26, in <module>\n",
      "\u001b[1;31m    from pip._internal.index import PackageFinder\n",
      "\u001b[1;31mImportError: cannot import name 'PackageFinder' from 'pip._internal.index' (/Library/Developer/CommandLineTools/Library/Frameworks/Python3.framework/Versions/3.8/lib/python3.8/site-packages/pip/_internal/index/__init__.py). \n",
      "\u001b[1;31mView Jupyter <a href='command:jupyter.viewOutput'>log</a> for further details."
     ]
    }
   ],
   "source": [
    "cltv = ggf.customer_lifetime_value(bgf,\n",
    "                                   cltv_df['frequency'],\n",
    "                                   cltv_df['recency'],\n",
    "                                   cltv_df['T'],\n",
    "                                   cltv_df['monetary'],\n",
    "                                   time=6, \n",
    "                                   freq=\"W\",\n",
    "                                   discount_rate=0.01)"
   ]
  },
  {
   "cell_type": "code",
   "execution_count": null,
   "id": "3798d631",
   "metadata": {},
   "outputs": [
    {
     "ename": "",
     "evalue": "",
     "output_type": "error",
     "traceback": [
      "\u001b[1;31mFailed to start the Kernel. \n",
      "\u001b[1;31mreturn _run_code(code, main_globals, None,\n",
      "\u001b[1;31m  File \"/Library/Developer/CommandLineTools/Library/Frameworks/Python3.framework/Versions/3.8/lib/python3.8/runpy.py\", line 86, in _run_code\n",
      "\u001b[1;31m    exec(code, run_globals)\n",
      "\u001b[1;31m  File \"/Library/Developer/CommandLineTools/Library/Frameworks/Python3.framework/Versions/3.8/lib/python3.8/site-packages/pip/__main__.py\", line 16, in <module>\n",
      "\u001b[1;31m    from pip._internal import main as _main  # isort:skip # noqa\n",
      "\u001b[1;31m  File \"/Library/Developer/CommandLineTools/Library/Frameworks/Python3.framework/Versions/3.8/lib/python3.8/site-packages/pip/_internal/__init__.py\", line 40, in <module>\n",
      "\u001b[1;31m    from pip._internal.cli.autocompletion import autocomplete\n",
      "\u001b[1;31m  File \"/Library/Developer/CommandLineTools/Library/Frameworks/Python3.framework/Versions/3.8/lib/python3.8/site-packages/pip/_internal/cli/autocompletion.py\", line 8, in <module>\n",
      "\u001b[1;31m    from pip._internal.cli.main_parser import create_main_parser\n",
      "\u001b[1;31m  File \"/Library/Developer/CommandLineTools/Library/Frameworks/Python3.framework/Versions/3.8/lib/python3.8/site-packages/pip/_internal/cli/main_parser.py\", line 11, in <module>\n",
      "\u001b[1;31m    from pip._internal.commands import (\n",
      "\u001b[1;31m  File \"/Library/Developer/CommandLineTools/Library/Frameworks/Python3.framework/Versions/3.8/lib/python3.8/site-packages/pip/_internal/commands/__init__.py\", line 6, in <module>\n",
      "\u001b[1;31m    from pip._internal.commands.completion import CompletionCommand\n",
      "\u001b[1;31m  File \"/Library/Developer/CommandLineTools/Library/Frameworks/Python3.framework/Versions/3.8/lib/python3.8/site-packages/pip/_internal/commands/completion.py\", line 6, in <module>\n",
      "\u001b[1;31m    from pip._internal.cli.base_command import Command\n",
      "\u001b[1;31m  File \"/Library/Developer/CommandLineTools/Library/Frameworks/Python3.framework/Versions/3.8/lib/python3.8/site-packages/pip/_internal/cli/base_command.py\", line 26, in <module>\n",
      "\u001b[1;31m    from pip._internal.index import PackageFinder\n",
      "\u001b[1;31mImportError: cannot import name 'PackageFinder' from 'pip._internal.index' (/Library/Developer/CommandLineTools/Library/Frameworks/Python3.framework/Versions/3.8/lib/python3.8/site-packages/pip/_internal/index/__init__.py). \n",
      "\u001b[1;31mView Jupyter <a href='command:jupyter.viewOutput'>log</a> for further details."
     ]
    }
   ],
   "source": [
    "cltv = cltv.reset_index()\n",
    "cltv_final = cltv_df.merge(cltv, on=\"Customer ID\", how=\"left\")\n",
    "cltv_final.sort_values(by=\"clv\", ascending=False).head(10)"
   ]
  },
  {
   "cell_type": "code",
   "execution_count": null,
   "id": "2e650ccd",
   "metadata": {},
   "outputs": [
    {
     "ename": "",
     "evalue": "",
     "output_type": "error",
     "traceback": [
      "\u001b[1;31mFailed to start the Kernel. \n",
      "\u001b[1;31mreturn _run_code(code, main_globals, None,\n",
      "\u001b[1;31m  File \"/Library/Developer/CommandLineTools/Library/Frameworks/Python3.framework/Versions/3.8/lib/python3.8/runpy.py\", line 86, in _run_code\n",
      "\u001b[1;31m    exec(code, run_globals)\n",
      "\u001b[1;31m  File \"/Library/Developer/CommandLineTools/Library/Frameworks/Python3.framework/Versions/3.8/lib/python3.8/site-packages/pip/__main__.py\", line 16, in <module>\n",
      "\u001b[1;31m    from pip._internal import main as _main  # isort:skip # noqa\n",
      "\u001b[1;31m  File \"/Library/Developer/CommandLineTools/Library/Frameworks/Python3.framework/Versions/3.8/lib/python3.8/site-packages/pip/_internal/__init__.py\", line 40, in <module>\n",
      "\u001b[1;31m    from pip._internal.cli.autocompletion import autocomplete\n",
      "\u001b[1;31m  File \"/Library/Developer/CommandLineTools/Library/Frameworks/Python3.framework/Versions/3.8/lib/python3.8/site-packages/pip/_internal/cli/autocompletion.py\", line 8, in <module>\n",
      "\u001b[1;31m    from pip._internal.cli.main_parser import create_main_parser\n",
      "\u001b[1;31m  File \"/Library/Developer/CommandLineTools/Library/Frameworks/Python3.framework/Versions/3.8/lib/python3.8/site-packages/pip/_internal/cli/main_parser.py\", line 11, in <module>\n",
      "\u001b[1;31m    from pip._internal.commands import (\n",
      "\u001b[1;31m  File \"/Library/Developer/CommandLineTools/Library/Frameworks/Python3.framework/Versions/3.8/lib/python3.8/site-packages/pip/_internal/commands/__init__.py\", line 6, in <module>\n",
      "\u001b[1;31m    from pip._internal.commands.completion import CompletionCommand\n",
      "\u001b[1;31m  File \"/Library/Developer/CommandLineTools/Library/Frameworks/Python3.framework/Versions/3.8/lib/python3.8/site-packages/pip/_internal/commands/completion.py\", line 6, in <module>\n",
      "\u001b[1;31m    from pip._internal.cli.base_command import Command\n",
      "\u001b[1;31m  File \"/Library/Developer/CommandLineTools/Library/Frameworks/Python3.framework/Versions/3.8/lib/python3.8/site-packages/pip/_internal/cli/base_command.py\", line 26, in <module>\n",
      "\u001b[1;31m    from pip._internal.index import PackageFinder\n",
      "\u001b[1;31mImportError: cannot import name 'PackageFinder' from 'pip._internal.index' (/Library/Developer/CommandLineTools/Library/Frameworks/Python3.framework/Versions/3.8/lib/python3.8/site-packages/pip/_internal/index/__init__.py). \n",
      "\u001b[1;31mView Jupyter <a href='command:jupyter.viewOutput'>log</a> for further details."
     ]
    }
   ],
   "source": [
    "# 1 Month CLTV:\n",
    "cltv_1 = ggf.customer_lifetime_value(bgf,\n",
    "                                   cltv_df['frequency'],\n",
    "                                   cltv_df['recency'],\n",
    "                                   cltv_df['T'],\n",
    "                                   cltv_df['monetary'],\n",
    "                                   time=1,  # 1 month\n",
    "                                   freq=\"W\",  # frequency of T\n",
    "                                   discount_rate=0.01)\n",
    "cltv_1= cltv_1.reset_index()\n",
    "cltv_1 = cltv_df.merge(cltv_1, on=\"Customer ID\", how=\"left\")\n",
    "cltv_1.sort_values(by=\"clv\", ascending=False).head(5)"
   ]
  },
  {
   "cell_type": "code",
   "execution_count": null,
   "id": "47effa89",
   "metadata": {},
   "outputs": [
    {
     "ename": "",
     "evalue": "",
     "output_type": "error",
     "traceback": [
      "\u001b[1;31mFailed to start the Kernel. \n",
      "\u001b[1;31mreturn _run_code(code, main_globals, None,\n",
      "\u001b[1;31m  File \"/Library/Developer/CommandLineTools/Library/Frameworks/Python3.framework/Versions/3.8/lib/python3.8/runpy.py\", line 86, in _run_code\n",
      "\u001b[1;31m    exec(code, run_globals)\n",
      "\u001b[1;31m  File \"/Library/Developer/CommandLineTools/Library/Frameworks/Python3.framework/Versions/3.8/lib/python3.8/site-packages/pip/__main__.py\", line 16, in <module>\n",
      "\u001b[1;31m    from pip._internal import main as _main  # isort:skip # noqa\n",
      "\u001b[1;31m  File \"/Library/Developer/CommandLineTools/Library/Frameworks/Python3.framework/Versions/3.8/lib/python3.8/site-packages/pip/_internal/__init__.py\", line 40, in <module>\n",
      "\u001b[1;31m    from pip._internal.cli.autocompletion import autocomplete\n",
      "\u001b[1;31m  File \"/Library/Developer/CommandLineTools/Library/Frameworks/Python3.framework/Versions/3.8/lib/python3.8/site-packages/pip/_internal/cli/autocompletion.py\", line 8, in <module>\n",
      "\u001b[1;31m    from pip._internal.cli.main_parser import create_main_parser\n",
      "\u001b[1;31m  File \"/Library/Developer/CommandLineTools/Library/Frameworks/Python3.framework/Versions/3.8/lib/python3.8/site-packages/pip/_internal/cli/main_parser.py\", line 11, in <module>\n",
      "\u001b[1;31m    from pip._internal.commands import (\n",
      "\u001b[1;31m  File \"/Library/Developer/CommandLineTools/Library/Frameworks/Python3.framework/Versions/3.8/lib/python3.8/site-packages/pip/_internal/commands/__init__.py\", line 6, in <module>\n",
      "\u001b[1;31m    from pip._internal.commands.completion import CompletionCommand\n",
      "\u001b[1;31m  File \"/Library/Developer/CommandLineTools/Library/Frameworks/Python3.framework/Versions/3.8/lib/python3.8/site-packages/pip/_internal/commands/completion.py\", line 6, in <module>\n",
      "\u001b[1;31m    from pip._internal.cli.base_command import Command\n",
      "\u001b[1;31m  File \"/Library/Developer/CommandLineTools/Library/Frameworks/Python3.framework/Versions/3.8/lib/python3.8/site-packages/pip/_internal/cli/base_command.py\", line 26, in <module>\n",
      "\u001b[1;31m    from pip._internal.index import PackageFinder\n",
      "\u001b[1;31mImportError: cannot import name 'PackageFinder' from 'pip._internal.index' (/Library/Developer/CommandLineTools/Library/Frameworks/Python3.framework/Versions/3.8/lib/python3.8/site-packages/pip/_internal/index/__init__.py). \n",
      "\u001b[1;31mView Jupyter <a href='command:jupyter.viewOutput'>log</a> for further details."
     ]
    }
   ],
   "source": [
    "cltv_12 = ggf.customer_lifetime_value(bgf,\n",
    "                                   cltv_df['frequency'],\n",
    "                                   cltv_df['recency'],\n",
    "                                   cltv_df['T'],\n",
    "                                   cltv_df['monetary'],\n",
    "                                   time=12, \n",
    "                                   freq=\"W\",  \n",
    "                                   discount_rate=0.01)\n",
    "cltv_12 = cltv_12.reset_index()\n",
    "cltv_12 = cltv_df.merge(cltv_12, on=\"Customer ID\", how=\"left\")\n",
    "cltv_12.sort_values(by=\"clv\", ascending=False).head(5)"
   ]
  },
  {
   "cell_type": "code",
   "execution_count": null,
   "id": "7f6c591d",
   "metadata": {},
   "outputs": [
    {
     "ename": "",
     "evalue": "",
     "output_type": "error",
     "traceback": [
      "\u001b[1;31mFailed to start the Kernel. \n",
      "\u001b[1;31mreturn _run_code(code, main_globals, None,\n",
      "\u001b[1;31m  File \"/Library/Developer/CommandLineTools/Library/Frameworks/Python3.framework/Versions/3.8/lib/python3.8/runpy.py\", line 86, in _run_code\n",
      "\u001b[1;31m    exec(code, run_globals)\n",
      "\u001b[1;31m  File \"/Library/Developer/CommandLineTools/Library/Frameworks/Python3.framework/Versions/3.8/lib/python3.8/site-packages/pip/__main__.py\", line 16, in <module>\n",
      "\u001b[1;31m    from pip._internal import main as _main  # isort:skip # noqa\n",
      "\u001b[1;31m  File \"/Library/Developer/CommandLineTools/Library/Frameworks/Python3.framework/Versions/3.8/lib/python3.8/site-packages/pip/_internal/__init__.py\", line 40, in <module>\n",
      "\u001b[1;31m    from pip._internal.cli.autocompletion import autocomplete\n",
      "\u001b[1;31m  File \"/Library/Developer/CommandLineTools/Library/Frameworks/Python3.framework/Versions/3.8/lib/python3.8/site-packages/pip/_internal/cli/autocompletion.py\", line 8, in <module>\n",
      "\u001b[1;31m    from pip._internal.cli.main_parser import create_main_parser\n",
      "\u001b[1;31m  File \"/Library/Developer/CommandLineTools/Library/Frameworks/Python3.framework/Versions/3.8/lib/python3.8/site-packages/pip/_internal/cli/main_parser.py\", line 11, in <module>\n",
      "\u001b[1;31m    from pip._internal.commands import (\n",
      "\u001b[1;31m  File \"/Library/Developer/CommandLineTools/Library/Frameworks/Python3.framework/Versions/3.8/lib/python3.8/site-packages/pip/_internal/commands/__init__.py\", line 6, in <module>\n",
      "\u001b[1;31m    from pip._internal.commands.completion import CompletionCommand\n",
      "\u001b[1;31m  File \"/Library/Developer/CommandLineTools/Library/Frameworks/Python3.framework/Versions/3.8/lib/python3.8/site-packages/pip/_internal/commands/completion.py\", line 6, in <module>\n",
      "\u001b[1;31m    from pip._internal.cli.base_command import Command\n",
      "\u001b[1;31m  File \"/Library/Developer/CommandLineTools/Library/Frameworks/Python3.framework/Versions/3.8/lib/python3.8/site-packages/pip/_internal/cli/base_command.py\", line 26, in <module>\n",
      "\u001b[1;31m    from pip._internal.index import PackageFinder\n",
      "\u001b[1;31mImportError: cannot import name 'PackageFinder' from 'pip._internal.index' (/Library/Developer/CommandLineTools/Library/Frameworks/Python3.framework/Versions/3.8/lib/python3.8/site-packages/pip/_internal/index/__init__.py). \n",
      "\u001b[1;31mView Jupyter <a href='command:jupyter.viewOutput'>log</a> for further details."
     ]
    }
   ],
   "source": []
  },
  {
   "cell_type": "code",
   "execution_count": null,
   "id": "10faa76f",
   "metadata": {},
   "outputs": [
    {
     "ename": "",
     "evalue": "",
     "output_type": "error",
     "traceback": [
      "\u001b[1;31mFailed to start the Kernel. \n",
      "\u001b[1;31mreturn _run_code(code, main_globals, None,\n",
      "\u001b[1;31m  File \"/Library/Developer/CommandLineTools/Library/Frameworks/Python3.framework/Versions/3.8/lib/python3.8/runpy.py\", line 86, in _run_code\n",
      "\u001b[1;31m    exec(code, run_globals)\n",
      "\u001b[1;31m  File \"/Library/Developer/CommandLineTools/Library/Frameworks/Python3.framework/Versions/3.8/lib/python3.8/site-packages/pip/__main__.py\", line 16, in <module>\n",
      "\u001b[1;31m    from pip._internal import main as _main  # isort:skip # noqa\n",
      "\u001b[1;31m  File \"/Library/Developer/CommandLineTools/Library/Frameworks/Python3.framework/Versions/3.8/lib/python3.8/site-packages/pip/_internal/__init__.py\", line 40, in <module>\n",
      "\u001b[1;31m    from pip._internal.cli.autocompletion import autocomplete\n",
      "\u001b[1;31m  File \"/Library/Developer/CommandLineTools/Library/Frameworks/Python3.framework/Versions/3.8/lib/python3.8/site-packages/pip/_internal/cli/autocompletion.py\", line 8, in <module>\n",
      "\u001b[1;31m    from pip._internal.cli.main_parser import create_main_parser\n",
      "\u001b[1;31m  File \"/Library/Developer/CommandLineTools/Library/Frameworks/Python3.framework/Versions/3.8/lib/python3.8/site-packages/pip/_internal/cli/main_parser.py\", line 11, in <module>\n",
      "\u001b[1;31m    from pip._internal.commands import (\n",
      "\u001b[1;31m  File \"/Library/Developer/CommandLineTools/Library/Frameworks/Python3.framework/Versions/3.8/lib/python3.8/site-packages/pip/_internal/commands/__init__.py\", line 6, in <module>\n",
      "\u001b[1;31m    from pip._internal.commands.completion import CompletionCommand\n",
      "\u001b[1;31m  File \"/Library/Developer/CommandLineTools/Library/Frameworks/Python3.framework/Versions/3.8/lib/python3.8/site-packages/pip/_internal/commands/completion.py\", line 6, in <module>\n",
      "\u001b[1;31m    from pip._internal.cli.base_command import Command\n",
      "\u001b[1;31m  File \"/Library/Developer/CommandLineTools/Library/Frameworks/Python3.framework/Versions/3.8/lib/python3.8/site-packages/pip/_internal/cli/base_command.py\", line 26, in <module>\n",
      "\u001b[1;31m    from pip._internal.index import PackageFinder\n",
      "\u001b[1;31mImportError: cannot import name 'PackageFinder' from 'pip._internal.index' (/Library/Developer/CommandLineTools/Library/Frameworks/Python3.framework/Versions/3.8/lib/python3.8/site-packages/pip/_internal/index/__init__.py). \n",
      "\u001b[1;31mView Jupyter <a href='command:jupyter.viewOutput'>log</a> for further details."
     ]
    }
   ],
   "source": []
  },
  {
   "cell_type": "code",
   "execution_count": null,
   "id": "d5f742ab",
   "metadata": {},
   "outputs": [
    {
     "ename": "",
     "evalue": "",
     "output_type": "error",
     "traceback": [
      "\u001b[1;31mFailed to start the Kernel. \n",
      "\u001b[1;31mreturn _run_code(code, main_globals, None,\n",
      "\u001b[1;31m  File \"/Library/Developer/CommandLineTools/Library/Frameworks/Python3.framework/Versions/3.8/lib/python3.8/runpy.py\", line 86, in _run_code\n",
      "\u001b[1;31m    exec(code, run_globals)\n",
      "\u001b[1;31m  File \"/Library/Developer/CommandLineTools/Library/Frameworks/Python3.framework/Versions/3.8/lib/python3.8/site-packages/pip/__main__.py\", line 16, in <module>\n",
      "\u001b[1;31m    from pip._internal import main as _main  # isort:skip # noqa\n",
      "\u001b[1;31m  File \"/Library/Developer/CommandLineTools/Library/Frameworks/Python3.framework/Versions/3.8/lib/python3.8/site-packages/pip/_internal/__init__.py\", line 40, in <module>\n",
      "\u001b[1;31m    from pip._internal.cli.autocompletion import autocomplete\n",
      "\u001b[1;31m  File \"/Library/Developer/CommandLineTools/Library/Frameworks/Python3.framework/Versions/3.8/lib/python3.8/site-packages/pip/_internal/cli/autocompletion.py\", line 8, in <module>\n",
      "\u001b[1;31m    from pip._internal.cli.main_parser import create_main_parser\n",
      "\u001b[1;31m  File \"/Library/Developer/CommandLineTools/Library/Frameworks/Python3.framework/Versions/3.8/lib/python3.8/site-packages/pip/_internal/cli/main_parser.py\", line 11, in <module>\n",
      "\u001b[1;31m    from pip._internal.commands import (\n",
      "\u001b[1;31m  File \"/Library/Developer/CommandLineTools/Library/Frameworks/Python3.framework/Versions/3.8/lib/python3.8/site-packages/pip/_internal/commands/__init__.py\", line 6, in <module>\n",
      "\u001b[1;31m    from pip._internal.commands.completion import CompletionCommand\n",
      "\u001b[1;31m  File \"/Library/Developer/CommandLineTools/Library/Frameworks/Python3.framework/Versions/3.8/lib/python3.8/site-packages/pip/_internal/commands/completion.py\", line 6, in <module>\n",
      "\u001b[1;31m    from pip._internal.cli.base_command import Command\n",
      "\u001b[1;31m  File \"/Library/Developer/CommandLineTools/Library/Frameworks/Python3.framework/Versions/3.8/lib/python3.8/site-packages/pip/_internal/cli/base_command.py\", line 26, in <module>\n",
      "\u001b[1;31m    from pip._internal.index import PackageFinder\n",
      "\u001b[1;31mImportError: cannot import name 'PackageFinder' from 'pip._internal.index' (/Library/Developer/CommandLineTools/Library/Frameworks/Python3.framework/Versions/3.8/lib/python3.8/site-packages/pip/_internal/index/__init__.py). \n",
      "\u001b[1;31mView Jupyter <a href='command:jupyter.viewOutput'>log</a> for further details."
     ]
    }
   ],
   "source": []
  },
  {
   "cell_type": "code",
   "execution_count": null,
   "id": "5c2e308c",
   "metadata": {},
   "outputs": [
    {
     "ename": "",
     "evalue": "",
     "output_type": "error",
     "traceback": [
      "\u001b[1;31mFailed to start the Kernel. \n",
      "\u001b[1;31mreturn _run_code(code, main_globals, None,\n",
      "\u001b[1;31m  File \"/Library/Developer/CommandLineTools/Library/Frameworks/Python3.framework/Versions/3.8/lib/python3.8/runpy.py\", line 86, in _run_code\n",
      "\u001b[1;31m    exec(code, run_globals)\n",
      "\u001b[1;31m  File \"/Library/Developer/CommandLineTools/Library/Frameworks/Python3.framework/Versions/3.8/lib/python3.8/site-packages/pip/__main__.py\", line 16, in <module>\n",
      "\u001b[1;31m    from pip._internal import main as _main  # isort:skip # noqa\n",
      "\u001b[1;31m  File \"/Library/Developer/CommandLineTools/Library/Frameworks/Python3.framework/Versions/3.8/lib/python3.8/site-packages/pip/_internal/__init__.py\", line 40, in <module>\n",
      "\u001b[1;31m    from pip._internal.cli.autocompletion import autocomplete\n",
      "\u001b[1;31m  File \"/Library/Developer/CommandLineTools/Library/Frameworks/Python3.framework/Versions/3.8/lib/python3.8/site-packages/pip/_internal/cli/autocompletion.py\", line 8, in <module>\n",
      "\u001b[1;31m    from pip._internal.cli.main_parser import create_main_parser\n",
      "\u001b[1;31m  File \"/Library/Developer/CommandLineTools/Library/Frameworks/Python3.framework/Versions/3.8/lib/python3.8/site-packages/pip/_internal/cli/main_parser.py\", line 11, in <module>\n",
      "\u001b[1;31m    from pip._internal.commands import (\n",
      "\u001b[1;31m  File \"/Library/Developer/CommandLineTools/Library/Frameworks/Python3.framework/Versions/3.8/lib/python3.8/site-packages/pip/_internal/commands/__init__.py\", line 6, in <module>\n",
      "\u001b[1;31m    from pip._internal.commands.completion import CompletionCommand\n",
      "\u001b[1;31m  File \"/Library/Developer/CommandLineTools/Library/Frameworks/Python3.framework/Versions/3.8/lib/python3.8/site-packages/pip/_internal/commands/completion.py\", line 6, in <module>\n",
      "\u001b[1;31m    from pip._internal.cli.base_command import Command\n",
      "\u001b[1;31m  File \"/Library/Developer/CommandLineTools/Library/Frameworks/Python3.framework/Versions/3.8/lib/python3.8/site-packages/pip/_internal/cli/base_command.py\", line 26, in <module>\n",
      "\u001b[1;31m    from pip._internal.index import PackageFinder\n",
      "\u001b[1;31mImportError: cannot import name 'PackageFinder' from 'pip._internal.index' (/Library/Developer/CommandLineTools/Library/Frameworks/Python3.framework/Versions/3.8/lib/python3.8/site-packages/pip/_internal/index/__init__.py). \n",
      "\u001b[1;31mView Jupyter <a href='command:jupyter.viewOutput'>log</a> for further details."
     ]
    }
   ],
   "source": []
  },
  {
   "cell_type": "code",
   "execution_count": null,
   "id": "9ff75790",
   "metadata": {},
   "outputs": [
    {
     "ename": "",
     "evalue": "",
     "output_type": "error",
     "traceback": [
      "\u001b[1;31mFailed to start the Kernel. \n",
      "\u001b[1;31mreturn _run_code(code, main_globals, None,\n",
      "\u001b[1;31m  File \"/Library/Developer/CommandLineTools/Library/Frameworks/Python3.framework/Versions/3.8/lib/python3.8/runpy.py\", line 86, in _run_code\n",
      "\u001b[1;31m    exec(code, run_globals)\n",
      "\u001b[1;31m  File \"/Library/Developer/CommandLineTools/Library/Frameworks/Python3.framework/Versions/3.8/lib/python3.8/site-packages/pip/__main__.py\", line 16, in <module>\n",
      "\u001b[1;31m    from pip._internal import main as _main  # isort:skip # noqa\n",
      "\u001b[1;31m  File \"/Library/Developer/CommandLineTools/Library/Frameworks/Python3.framework/Versions/3.8/lib/python3.8/site-packages/pip/_internal/__init__.py\", line 40, in <module>\n",
      "\u001b[1;31m    from pip._internal.cli.autocompletion import autocomplete\n",
      "\u001b[1;31m  File \"/Library/Developer/CommandLineTools/Library/Frameworks/Python3.framework/Versions/3.8/lib/python3.8/site-packages/pip/_internal/cli/autocompletion.py\", line 8, in <module>\n",
      "\u001b[1;31m    from pip._internal.cli.main_parser import create_main_parser\n",
      "\u001b[1;31m  File \"/Library/Developer/CommandLineTools/Library/Frameworks/Python3.framework/Versions/3.8/lib/python3.8/site-packages/pip/_internal/cli/main_parser.py\", line 11, in <module>\n",
      "\u001b[1;31m    from pip._internal.commands import (\n",
      "\u001b[1;31m  File \"/Library/Developer/CommandLineTools/Library/Frameworks/Python3.framework/Versions/3.8/lib/python3.8/site-packages/pip/_internal/commands/__init__.py\", line 6, in <module>\n",
      "\u001b[1;31m    from pip._internal.commands.completion import CompletionCommand\n",
      "\u001b[1;31m  File \"/Library/Developer/CommandLineTools/Library/Frameworks/Python3.framework/Versions/3.8/lib/python3.8/site-packages/pip/_internal/commands/completion.py\", line 6, in <module>\n",
      "\u001b[1;31m    from pip._internal.cli.base_command import Command\n",
      "\u001b[1;31m  File \"/Library/Developer/CommandLineTools/Library/Frameworks/Python3.framework/Versions/3.8/lib/python3.8/site-packages/pip/_internal/cli/base_command.py\", line 26, in <module>\n",
      "\u001b[1;31m    from pip._internal.index import PackageFinder\n",
      "\u001b[1;31mImportError: cannot import name 'PackageFinder' from 'pip._internal.index' (/Library/Developer/CommandLineTools/Library/Frameworks/Python3.framework/Versions/3.8/lib/python3.8/site-packages/pip/_internal/index/__init__.py). \n",
      "\u001b[1;31mView Jupyter <a href='command:jupyter.viewOutput'>log</a> for further details."
     ]
    }
   ],
   "source": []
  },
  {
   "cell_type": "code",
   "execution_count": null,
   "id": "c021133c",
   "metadata": {},
   "outputs": [
    {
     "ename": "",
     "evalue": "",
     "output_type": "error",
     "traceback": [
      "\u001b[1;31mFailed to start the Kernel. \n",
      "\u001b[1;31mreturn _run_code(code, main_globals, None,\n",
      "\u001b[1;31m  File \"/Library/Developer/CommandLineTools/Library/Frameworks/Python3.framework/Versions/3.8/lib/python3.8/runpy.py\", line 86, in _run_code\n",
      "\u001b[1;31m    exec(code, run_globals)\n",
      "\u001b[1;31m  File \"/Library/Developer/CommandLineTools/Library/Frameworks/Python3.framework/Versions/3.8/lib/python3.8/site-packages/pip/__main__.py\", line 16, in <module>\n",
      "\u001b[1;31m    from pip._internal import main as _main  # isort:skip # noqa\n",
      "\u001b[1;31m  File \"/Library/Developer/CommandLineTools/Library/Frameworks/Python3.framework/Versions/3.8/lib/python3.8/site-packages/pip/_internal/__init__.py\", line 40, in <module>\n",
      "\u001b[1;31m    from pip._internal.cli.autocompletion import autocomplete\n",
      "\u001b[1;31m  File \"/Library/Developer/CommandLineTools/Library/Frameworks/Python3.framework/Versions/3.8/lib/python3.8/site-packages/pip/_internal/cli/autocompletion.py\", line 8, in <module>\n",
      "\u001b[1;31m    from pip._internal.cli.main_parser import create_main_parser\n",
      "\u001b[1;31m  File \"/Library/Developer/CommandLineTools/Library/Frameworks/Python3.framework/Versions/3.8/lib/python3.8/site-packages/pip/_internal/cli/main_parser.py\", line 11, in <module>\n",
      "\u001b[1;31m    from pip._internal.commands import (\n",
      "\u001b[1;31m  File \"/Library/Developer/CommandLineTools/Library/Frameworks/Python3.framework/Versions/3.8/lib/python3.8/site-packages/pip/_internal/commands/__init__.py\", line 6, in <module>\n",
      "\u001b[1;31m    from pip._internal.commands.completion import CompletionCommand\n",
      "\u001b[1;31m  File \"/Library/Developer/CommandLineTools/Library/Frameworks/Python3.framework/Versions/3.8/lib/python3.8/site-packages/pip/_internal/commands/completion.py\", line 6, in <module>\n",
      "\u001b[1;31m    from pip._internal.cli.base_command import Command\n",
      "\u001b[1;31m  File \"/Library/Developer/CommandLineTools/Library/Frameworks/Python3.framework/Versions/3.8/lib/python3.8/site-packages/pip/_internal/cli/base_command.py\", line 26, in <module>\n",
      "\u001b[1;31m    from pip._internal.index import PackageFinder\n",
      "\u001b[1;31mImportError: cannot import name 'PackageFinder' from 'pip._internal.index' (/Library/Developer/CommandLineTools/Library/Frameworks/Python3.framework/Versions/3.8/lib/python3.8/site-packages/pip/_internal/index/__init__.py). \n",
      "\u001b[1;31mView Jupyter <a href='command:jupyter.viewOutput'>log</a> for further details."
     ]
    }
   ],
   "source": []
  },
  {
   "cell_type": "code",
   "execution_count": null,
   "id": "4ad53166",
   "metadata": {},
   "outputs": [
    {
     "ename": "",
     "evalue": "",
     "output_type": "error",
     "traceback": [
      "\u001b[1;31mFailed to start the Kernel. \n",
      "\u001b[1;31mreturn _run_code(code, main_globals, None,\n",
      "\u001b[1;31m  File \"/Library/Developer/CommandLineTools/Library/Frameworks/Python3.framework/Versions/3.8/lib/python3.8/runpy.py\", line 86, in _run_code\n",
      "\u001b[1;31m    exec(code, run_globals)\n",
      "\u001b[1;31m  File \"/Library/Developer/CommandLineTools/Library/Frameworks/Python3.framework/Versions/3.8/lib/python3.8/site-packages/pip/__main__.py\", line 16, in <module>\n",
      "\u001b[1;31m    from pip._internal import main as _main  # isort:skip # noqa\n",
      "\u001b[1;31m  File \"/Library/Developer/CommandLineTools/Library/Frameworks/Python3.framework/Versions/3.8/lib/python3.8/site-packages/pip/_internal/__init__.py\", line 40, in <module>\n",
      "\u001b[1;31m    from pip._internal.cli.autocompletion import autocomplete\n",
      "\u001b[1;31m  File \"/Library/Developer/CommandLineTools/Library/Frameworks/Python3.framework/Versions/3.8/lib/python3.8/site-packages/pip/_internal/cli/autocompletion.py\", line 8, in <module>\n",
      "\u001b[1;31m    from pip._internal.cli.main_parser import create_main_parser\n",
      "\u001b[1;31m  File \"/Library/Developer/CommandLineTools/Library/Frameworks/Python3.framework/Versions/3.8/lib/python3.8/site-packages/pip/_internal/cli/main_parser.py\", line 11, in <module>\n",
      "\u001b[1;31m    from pip._internal.commands import (\n",
      "\u001b[1;31m  File \"/Library/Developer/CommandLineTools/Library/Frameworks/Python3.framework/Versions/3.8/lib/python3.8/site-packages/pip/_internal/commands/__init__.py\", line 6, in <module>\n",
      "\u001b[1;31m    from pip._internal.commands.completion import CompletionCommand\n",
      "\u001b[1;31m  File \"/Library/Developer/CommandLineTools/Library/Frameworks/Python3.framework/Versions/3.8/lib/python3.8/site-packages/pip/_internal/commands/completion.py\", line 6, in <module>\n",
      "\u001b[1;31m    from pip._internal.cli.base_command import Command\n",
      "\u001b[1;31m  File \"/Library/Developer/CommandLineTools/Library/Frameworks/Python3.framework/Versions/3.8/lib/python3.8/site-packages/pip/_internal/cli/base_command.py\", line 26, in <module>\n",
      "\u001b[1;31m    from pip._internal.index import PackageFinder\n",
      "\u001b[1;31mImportError: cannot import name 'PackageFinder' from 'pip._internal.index' (/Library/Developer/CommandLineTools/Library/Frameworks/Python3.framework/Versions/3.8/lib/python3.8/site-packages/pip/_internal/index/__init__.py). \n",
      "\u001b[1;31mView Jupyter <a href='command:jupyter.viewOutput'>log</a> for further details."
     ]
    }
   ],
   "source": []
  }
 ],
 "metadata": {
  "kernelspec": {
   "display_name": "Python 3.8.2 64-bit",
   "language": "python",
   "name": "python3"
  },
  "language_info": {
   "codemirror_mode": {
    "name": "ipython",
    "version": 3
   },
   "file_extension": ".py",
   "mimetype": "text/x-python",
   "name": "python",
   "nbconvert_exporter": "python",
   "pygments_lexer": "ipython3",
   "version": "3.8.2"
  },
  "vscode": {
   "interpreter": {
    "hash": "31f2aee4e71d21fbe5cf8b01ff0e069b9275f58929596ceb00d14d90e3e16cd6"
   }
  }
 },
 "nbformat": 4,
 "nbformat_minor": 5
}
